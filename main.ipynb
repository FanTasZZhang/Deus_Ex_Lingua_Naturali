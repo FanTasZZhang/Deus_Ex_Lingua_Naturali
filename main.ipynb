{
 "cells": [
  {
   "cell_type": "code",
   "execution_count": 1,
   "metadata": {},
   "outputs": [
    {
     "name": "stderr",
     "output_type": "stream",
     "text": [
      "[nltk_data] Downloading package stopwords to\n",
      "[nltk_data]     C:\\Users\\Jason\\AppData\\Roaming\\nltk_data...\n",
      "[nltk_data]   Package stopwords is already up-to-date!\n"
     ]
    }
   ],
   "source": [
    "import pandas as pd\n",
    "import numpy as np\n",
    "import re\n",
    "import nltk\n",
    "nltk.download('stopwords')\n",
    "from nltk.corpus import stopwords\n",
    "from nltk.tokenize.toktok import ToktokTokenizer\n",
    "from sklearn.naive_bayes import MultinomialNB\n",
    "from sklearn.metrics import classification_report,accuracy_score\n",
    "\n",
    "from sklearn.feature_extraction.text import CountVectorizer\n",
    "from sklearn.feature_extraction.text import TfidfVectorizer\n"
   ]
  },
  {
   "cell_type": "markdown",
   "metadata": {},
   "source": [
    "### Import the dataset"
   ]
  },
  {
   "cell_type": "code",
   "execution_count": 2,
   "metadata": {},
   "outputs": [
    {
     "data": {
      "text/html": [
       "<div>\n",
       "<style scoped>\n",
       "    .dataframe tbody tr th:only-of-type {\n",
       "        vertical-align: middle;\n",
       "    }\n",
       "\n",
       "    .dataframe tbody tr th {\n",
       "        vertical-align: top;\n",
       "    }\n",
       "\n",
       "    .dataframe thead th {\n",
       "        text-align: right;\n",
       "    }\n",
       "</style>\n",
       "<table border=\"1\" class=\"dataframe\">\n",
       "  <thead>\n",
       "    <tr style=\"text-align: right;\">\n",
       "      <th></th>\n",
       "      <th>review</th>\n",
       "      <th>sentiment</th>\n",
       "    </tr>\n",
       "  </thead>\n",
       "  <tbody>\n",
       "    <tr>\n",
       "      <th>0</th>\n",
       "      <td>One of the other reviewers has mentioned that ...</td>\n",
       "      <td>positive</td>\n",
       "    </tr>\n",
       "    <tr>\n",
       "      <th>1</th>\n",
       "      <td>A wonderful little production. &lt;br /&gt;&lt;br /&gt;The...</td>\n",
       "      <td>positive</td>\n",
       "    </tr>\n",
       "    <tr>\n",
       "      <th>2</th>\n",
       "      <td>I thought this was a wonderful way to spend ti...</td>\n",
       "      <td>positive</td>\n",
       "    </tr>\n",
       "    <tr>\n",
       "      <th>3</th>\n",
       "      <td>Basically there's a family where a little boy ...</td>\n",
       "      <td>negative</td>\n",
       "    </tr>\n",
       "    <tr>\n",
       "      <th>4</th>\n",
       "      <td>Petter Mattei's \"Love in the Time of Money\" is...</td>\n",
       "      <td>positive</td>\n",
       "    </tr>\n",
       "  </tbody>\n",
       "</table>\n",
       "</div>"
      ],
      "text/plain": [
       "                                              review sentiment\n",
       "0  One of the other reviewers has mentioned that ...  positive\n",
       "1  A wonderful little production. <br /><br />The...  positive\n",
       "2  I thought this was a wonderful way to spend ti...  positive\n",
       "3  Basically there's a family where a little boy ...  negative\n",
       "4  Petter Mattei's \"Love in the Time of Money\" is...  positive"
      ]
     },
     "execution_count": 2,
     "metadata": {},
     "output_type": "execute_result"
    }
   ],
   "source": [
    "imdb_data = pd.read_csv('./IMDB_Dataset.csv')\n",
    "imdb_data.head()"
   ]
  },
  {
   "cell_type": "code",
   "execution_count": 3,
   "metadata": {},
   "outputs": [
    {
     "data": {
      "text/plain": [
       "positive    25000\n",
       "negative    25000\n",
       "Name: sentiment, dtype: int64"
      ]
     },
     "execution_count": 3,
     "metadata": {},
     "output_type": "execute_result"
    }
   ],
   "source": [
    "imdb_data['sentiment'].value_counts()"
   ]
  },
  {
   "cell_type": "markdown",
   "metadata": {},
   "source": [
    "### Generate the Training and Testing data by dividing the dataset as 4:1"
   ]
  },
  {
   "cell_type": "code",
   "execution_count": 4,
   "metadata": {},
   "outputs": [
    {
     "data": {
      "text/plain": [
       "((40000,), (40000,), (10000,), (10000,))"
      ]
     },
     "execution_count": 4,
     "metadata": {},
     "output_type": "execute_result"
    }
   ],
   "source": [
    "train_reviews=imdb_data.review[:40000]\n",
    "train_sentiments=imdb_data.sentiment[:40000]\n",
    "\n",
    "test_reviews=imdb_data.review[40000:]\n",
    "test_sentiments=imdb_data.sentiment[40000:]\n",
    "\n",
    "train_reviews.shape,train_sentiments.shape, test_reviews.shape,test_sentiments.shape\n"
   ]
  },
  {
   "cell_type": "markdown",
   "metadata": {},
   "source": [
    "### Make sure that the split is balanced in general"
   ]
  },
  {
   "cell_type": "code",
   "execution_count": 5,
   "metadata": {},
   "outputs": [
    {
     "data": {
      "text/plain": [
       "negative    20007\n",
       "positive    19993\n",
       "Name: sentiment, dtype: int64"
      ]
     },
     "execution_count": 5,
     "metadata": {},
     "output_type": "execute_result"
    }
   ],
   "source": [
    "train_sentiments.value_counts()"
   ]
  },
  {
   "cell_type": "markdown",
   "metadata": {},
   "source": [
    "### Preprocessing the dataset"
   ]
  },
  {
   "cell_type": "code",
   "execution_count": 6,
   "metadata": {},
   "outputs": [],
   "source": [
    "tokenizer = ToktokTokenizer()\n",
    "stopword_list=nltk.corpus.stopwords.words('english')\n",
    "\n",
    "#Define function for removing special characters\n",
    "def remove_special_characters(text, remove_digits=True):\n",
    "    pattern=r'[^a-zA-z0-9\\s]'\n",
    "    text=re.sub(pattern,'',text)\n",
    "    return text\n",
    "\n",
    "train_reviews = train_reviews.apply(remove_special_characters)\n",
    "test_reviews = test_reviews.apply(remove_special_characters)\n",
    "\n",
    "#Stemming the text, e.g. am, are, is -> be\n",
    "def simple_stemmer(text):\n",
    "    ps=nltk.porter.PorterStemmer()\n",
    "    text= ' '.join([ps.stem(word) for word in text.split()])\n",
    "    return text\n",
    "\n",
    "train_reviews = train_reviews.apply(simple_stemmer)\n",
    "test_reviews = test_reviews.apply(simple_stemmer)\n",
    "\n"
   ]
  },
  {
   "cell_type": "code",
   "execution_count": 7,
   "metadata": {},
   "outputs": [
    {
     "name": "stdout",
     "output_type": "stream",
     "text": [
      "{'if', 'has', 'were', 'her', 'shouldn', 'this', 'then', 'no', 'it', 'ourselves', 'with', 'where', 'mustn', 'be', \"shouldn't\", 'some', 'isn', 'was', 'by', 'am', 'ma', 'other', 'have', \"couldn't\", \"you'll\", 'theirs', 'why', 'they', 'down', 'their', 'shan', 'yourself', 'your', 'being', 'which', 'we', 'who', 'on', 'you', 'm', 'to', \"she's\", 'are', 'myself', 'weren', 'itself', 'from', 'yourselves', 'during', 'both', 'should', 'before', 'don', \"wasn't\", 'me', 'been', 'had', 'below', 'off', 'too', 'an', 'our', 'himself', 'the', 'until', 't', 'there', 'very', 'any', 'but', 'aren', 'against', \"you've\", 'in', 'hasn', 'own', 're', 'most', 'd', 'o', 'herself', 'into', \"didn't\", 'nor', 'further', 'not', \"it's\", \"wouldn't\", 'ain', 'over', 'is', \"hasn't\", \"mustn't\", 'more', \"don't\", 'didn', 'hers', \"you'd\", 'will', 'than', 'of', 'doing', 'ours', 'doesn', \"doesn't\", 'just', 'such', 'having', 'my', 'above', 'each', 'same', 'again', \"mightn't\", 'for', 'i', 'under', \"weren't\", 'at', \"shan't\", 'so', 'him', 'whom', 'out', 's', 'few', \"haven't\", 'wouldn', 'a', 'll', 'can', 'mightn', 'hadn', 've', 'while', 'themselves', 'all', 'them', 'she', 'here', \"should've\", 'that', \"won't\", 'needn', 'he', 'or', \"that'll\", 'when', 'wasn', 'now', 'haven', \"isn't\", 'because', 'its', 'once', 'what', 'does', 'after', 'won', 'yours', \"you're\", 'how', 'those', 'y', 'did', 'up', 'do', 'about', 'only', \"needn't\", \"aren't\", 'these', 'as', 'couldn', 'his', \"hadn't\", 'and', 'through', 'between'}\n"
     ]
    }
   ],
   "source": [
    "#set stopwords to english\n",
    "stop = set(stopwords.words('english'))\n",
    "print(stop)"
   ]
  },
  {
   "cell_type": "code",
   "execution_count": 8,
   "metadata": {},
   "outputs": [],
   "source": [
    "#removing the stopwords\n",
    "def remove_stopwords(text, is_lower_case=False):\n",
    "    tokens = tokenizer.tokenize(text)\n",
    "    tokens = [token.strip() for token in tokens]\n",
    "    if is_lower_case:\n",
    "        filtered_tokens = [token for token in tokens if token not in stopword_list]\n",
    "    else:\n",
    "        filtered_tokens = [token for token in tokens if token.lower() not in stopword_list]\n",
    "    filtered_text = ' '.join(filtered_tokens)    \n",
    "    return filtered_text\n",
    "\n",
    "train_reviews = train_reviews.apply(remove_stopwords)\n",
    "test_reviews = test_reviews.apply(remove_stopwords)\n"
   ]
  },
  {
   "cell_type": "markdown",
   "metadata": {},
   "source": [
    "* Problem: the stopwords used here include negative words like \"not\""
   ]
  },
  {
   "cell_type": "markdown",
   "metadata": {},
   "source": [
    "## Param explanation\n",
    "### min_df\n",
    "When building the vocabulary ignore terms that have a document frequency strictly lower than the given threshold. This value is also called cut-off in the literature. If float, the parameter represents a proportion of documents, integer absolute counts. This parameter is ignored if vocabulary is not None.\n",
    "### max_df\n",
    "When building the vocabulary ignore terms that have a document frequency strictly higher than the given threshold (corpus-specific stop words). If float, the parameter represents a proportion of documents, integer absolute counts. This parameter is ignored if vocabulary is not None.\n",
    "\n",
    "https://stackoverflow.com/questions/27697766/understanding-min-df-and-max-df-in-scikit-countvectorizer"
   ]
  },
  {
   "cell_type": "code",
   "execution_count": 9,
   "metadata": {},
   "outputs": [
    {
     "name": "stdout",
     "output_type": "stream",
     "text": [
      "BOW_cv_train: (40000, 809019)\n",
      "BOW_cv_test: (10000, 809019)\n"
     ]
    }
   ],
   "source": [
    "#Count vectorizer for bag of words\n",
    "# https://scikit-learn.org/stable/modules/generated/sklearn.feature_extraction.text.CountVectorizer.html\n",
    "cv=CountVectorizer(min_df=2,max_df=0.5,binary=False,ngram_range=(1,3))\n",
    "cv_train_reviews=cv.fit_transform(train_reviews)\n",
    "cv_test_reviews=cv.transform(test_reviews)\n",
    "\n",
    "print('BOW_cv_train:',cv_train_reviews.shape)\n",
    "print('BOW_cv_test:',cv_test_reviews.shape)\n"
   ]
  },
  {
   "cell_type": "code",
   "execution_count": 10,
   "metadata": {},
   "outputs": [
    {
     "name": "stdout",
     "output_type": "stream",
     "text": [
      "Tfidf_train: (40000, 809019)\n",
      "Tfidf_test: (10000, 809019)\n"
     ]
    }
   ],
   "source": [
    "#Tfidf vectorizer\n",
    "# https://scikit-learn.org/stable/modules/generated/sklearn.feature_extraction.text.TfidfVectorizer.html\n",
    "tv=TfidfVectorizer(min_df=2,max_df=0.5,use_idf=True, ngram_range=(1,3))\n",
    "#transformed train reviews\n",
    "tv_train_reviews=tv.fit_transform(train_reviews)\n",
    "#transformed test reviews\n",
    "tv_test_reviews=tv.transform(test_reviews)\n",
    "print('Tfidf_train:',tv_train_reviews.shape)\n",
    "print('Tfidf_test:',tv_test_reviews.shape)"
   ]
  },
  {
   "cell_type": "markdown",
   "metadata": {},
   "source": [
    " # Naive bayes model\n",
    " https://scikit-learn.org/stable/modules/generated/sklearn.naive_bayes.MultinomialNB.html"
   ]
  },
  {
   "cell_type": "code",
   "execution_count": 11,
   "metadata": {},
   "outputs": [],
   "source": [
    "#training the model\n",
    "mnb=MultinomialNB()\n",
    "#fitting the naive bayes for bag of words\n",
    "mnb_bow = mnb.fit(cv_train_reviews, train_sentiments)\n",
    "#fitting the naive bayes for tfidf features\n",
    "mnb_tfidf = mnb.fit(tv_train_reviews, train_sentiments)\n"
   ]
  },
  {
   "cell_type": "code",
   "execution_count": null,
   "metadata": {},
   "outputs": [],
   "source": []
  },
  {
   "cell_type": "code",
   "execution_count": 12,
   "metadata": {},
   "outputs": [
    {
     "name": "stdout",
     "output_type": "stream",
     "text": [
      "['negative' 'negative' 'negative' ... 'negative' 'negative' 'negative']\n",
      "['negative' 'negative' 'negative' ... 'negative' 'negative' 'negative']\n"
     ]
    }
   ],
   "source": [
    "#Predicting the model for bag of words\n",
    "mnb_bow_predict=mnb.predict(cv_test_reviews)\n",
    "print(mnb_bow_predict)\n",
    "#Predicting the model for tfidf features\n",
    "mnb_tfidf_predict=mnb.predict(tv_test_reviews)\n",
    "print(mnb_tfidf_predict)"
   ]
  },
  {
   "cell_type": "markdown",
   "metadata": {},
   "source": [
    "### Tracking those wrong labeled data\n",
    "The doc with their index in test set, and the actual sentiment (label) will be output to text"
   ]
  },
  {
   "cell_type": "code",
   "execution_count": 13,
   "metadata": {},
   "outputs": [
    {
     "data": {
      "text/plain": [
       "<function TextIOWrapper.close()>"
      ]
     },
     "execution_count": 13,
     "metadata": {},
     "output_type": "execute_result"
    }
   ],
   "source": [
    "wrong_labeled_NB_BOW = \"\"\n",
    "\n",
    "for i in range(mnb_bow_predict.size):\n",
    "    start_index = test_sentiments.index.start\n",
    "    if(mnb_bow_predict[i] != test_sentiments[start_index + i]):\n",
    "        wrong_labeled_NB_BOW += str(start_index + i) + \" \" + str(test_sentiments[start_index + i]) + \" | \" + str(test_reviews[start_index + i]) +  \"\\n\"\n",
    "\n",
    "f = open(\"Naive Bayes - Bag of Words Wrongly labeled sentences.txt\", \"w\")\n",
    "f.write(wrong_labeled_NB_BOW)\n",
    "f.close\n",
    "\n",
    "wrong_labeled_NB_TFIDF = \"\"\n",
    "for i in range(mnb_tfidf_predict.size):\n",
    "    start_index = test_sentiments.index.start\n",
    "    if(mnb_tfidf_predict[i] != test_sentiments[start_index + i]):\n",
    "        wrong_labeled_NB_TFIDF += str(start_index + i) + \" \" + str(test_sentiments[start_index + i]) + \" | \" + str(test_reviews[start_index + i]) +  \"\\n\"\n",
    "\n",
    "f = open(\"Naive Bayes - TF-IDF Wrongly labeled sentences.txt\", \"w\")\n",
    "f.write(wrong_labeled_NB_TFIDF)\n",
    "f.close\n"
   ]
  },
  {
   "cell_type": "code",
   "execution_count": 14,
   "metadata": {},
   "outputs": [
    {
     "name": "stdout",
     "output_type": "stream",
     "text": [
      "mnb_bow_score : 0.8871\n",
      "mnb_tfidf_score : 0.8931\n"
     ]
    }
   ],
   "source": [
    "#Accuracy score for bag of words\n",
    "mnb_bow_score = accuracy_score(test_sentiments, mnb_bow_predict)\n",
    "print(\"mnb_bow_score :\",mnb_bow_score)\n",
    "\n",
    "#Accuracy score for tfidf features\n",
    "mnb_tfidf_score=accuracy_score(test_sentiments,mnb_tfidf_predict)\n",
    "print(\"mnb_tfidf_score :\",mnb_tfidf_score)"
   ]
  },
  {
   "cell_type": "code",
   "execution_count": 15,
   "metadata": {},
   "outputs": [
    {
     "name": "stdout",
     "output_type": "stream",
     "text": [
      "              precision    recall  f1-score   support\n",
      "\n",
      "    Positive       0.88      0.90      0.89      4993\n",
      "    Negative       0.90      0.88      0.89      5007\n",
      "\n",
      "    accuracy                           0.89     10000\n",
      "   macro avg       0.89      0.89      0.89     10000\n",
      "weighted avg       0.89      0.89      0.89     10000\n",
      "\n",
      "              precision    recall  f1-score   support\n",
      "\n",
      "    Positive       0.89      0.89      0.89      4993\n",
      "    Negative       0.89      0.89      0.89      5007\n",
      "\n",
      "    accuracy                           0.89     10000\n",
      "   macro avg       0.89      0.89      0.89     10000\n",
      "weighted avg       0.89      0.89      0.89     10000\n",
      "\n"
     ]
    }
   ],
   "source": [
    "#Classification report for bag of words \n",
    "mnb_bow_report=classification_report(test_sentiments,mnb_bow_predict,target_names=['Positive','Negative'])\n",
    "print(mnb_bow_report)\n",
    "\n",
    "#Classification report for tfidf features\n",
    "mnb_tfidf_report=classification_report(test_sentiments,mnb_tfidf_predict,target_names=['Positive','Negative'])\n",
    "print(mnb_tfidf_report)"
   ]
  },
  {
   "cell_type": "code",
   "execution_count": 16,
   "metadata": {},
   "outputs": [],
   "source": [
    "f = open(\"output.txt\", \"w\")\n",
    "output = \"\"\n",
    "\n",
    "output += str(cv.vocabulary_)\n",
    "f.write(output)\n",
    "f.close()\n"
   ]
  },
  {
   "cell_type": "markdown",
   "metadata": {},
   "source": [
    "# fastText method"
   ]
  },
  {
   "cell_type": "code",
   "execution_count": 17,
   "metadata": {},
   "outputs": [
    {
     "data": {
      "text/plain": [
       "50000"
      ]
     },
     "execution_count": 17,
     "metadata": {},
     "output_type": "execute_result"
    }
   ],
   "source": [
    "import fasttext\n",
    "test_reviews.index.stop"
   ]
  },
  {
   "cell_type": "code",
   "execution_count": 18,
   "metadata": {},
   "outputs": [],
   "source": [
    "#preprocess the data so it can feed into fasttext\n",
    "def transform_instance(doc, label):\n",
    "    processed_text = []\n",
    "    #Prefix the index-ed label with __label__\n",
    "    for i in range(doc.index.start, doc.index.stop):\n",
    "        cur_row = \"__label__\" + label[i] + \" \" + doc[i]\n",
    "        processed_text.append(cur_row)\n",
    "    return processed_text\n",
    "\n",
    "training_text = transform_instance(train_reviews, train_sentiments)\n",
    "test_text = transform_instance(test_reviews, test_sentiments)\n",
    "\n",
    "# Put the training and test dataset into file, so that the fasttext model can read them.\n",
    "f = open(\"fasttext.train\", \"w\")\n",
    "output = \"\"\n",
    "for text in training_text:\n",
    "    output += text\n",
    "    output += \"\\n\"\n",
    "f.write(output)\n",
    "f.close()\n",
    "\n",
    "f = open(\"fasttext.test\", \"w\")\n",
    "output = \"\"\n",
    "for text in test_text:\n",
    "    output += text\n",
    "    output += \"\\n\"\n",
    "f.write(output)\n",
    "f.close()"
   ]
  },
  {
   "cell_type": "code",
   "execution_count": 19,
   "metadata": {},
   "outputs": [
    {
     "data": {
      "text/plain": [
       "(40000, 10000)"
      ]
     },
     "execution_count": 19,
     "metadata": {},
     "output_type": "execute_result"
    }
   ],
   "source": [
    "len(training_text), len(test_text)"
   ]
  },
  {
   "cell_type": "code",
   "execution_count": 20,
   "metadata": {},
   "outputs": [],
   "source": [
    "model = fasttext.train_supervised(input = \"fasttext.train\", lr=0.1, epoch=25, wordNgrams=3)"
   ]
  },
  {
   "cell_type": "code",
   "execution_count": 21,
   "metadata": {},
   "outputs": [],
   "source": [
    "model.save_model(\"model_movie.bin\")"
   ]
  },
  {
   "cell_type": "code",
   "execution_count": 22,
   "metadata": {},
   "outputs": [
    {
     "data": {
      "text/plain": [
       "(10000, 0.9019, 0.9019)"
      ]
     },
     "execution_count": 22,
     "metadata": {},
     "output_type": "execute_result"
    }
   ],
   "source": [
    "model.test(\"fasttext.test\")\n"
   ]
  },
  {
   "cell_type": "code",
   "execution_count": 23,
   "metadata": {},
   "outputs": [
    {
     "data": {
      "text/plain": [
       "<function TextIOWrapper.close()>"
      ]
     },
     "execution_count": 23,
     "metadata": {},
     "output_type": "execute_result"
    }
   ],
   "source": [
    "# get the misclassified examples by fasttext algorithm\n",
    "wrong_labeled_fasttext = \"\"\n",
    "for i in range(test_reviews.size):\n",
    "    start_index = test_sentiments.index.start\n",
    "    if(model.predict(test_reviews[start_index + i])[0][0] != str('__label__' + test_sentiments[start_index + i])):\n",
    "        wrong_labeled_fasttext += str(start_index + i) + \" \" + str(test_sentiments[start_index + i]) + \" | \" + str(test_reviews[start_index + i]) +  \"\\n\"\n",
    "\n",
    "f = open(\"fastText Wrongly labeled sentences.txt\", \"w\")\n",
    "f.write(wrong_labeled_fasttext)\n",
    "f.close\n"
   ]
  },
  {
   "cell_type": "markdown",
   "metadata": {},
   "source": [
    "# LSTM with pytorch\n",
    "https://www.kaggle.com/code/fantaszzhang/deep-learning-for-sentiment-analysis/edit"
   ]
  }
 ],
 "metadata": {
  "interpreter": {
   "hash": "60d1cc28a4b92593bd5dc5bc27ccc3190a35517554a34efe05fccaa5f4e07df9"
  },
  "kernelspec": {
   "display_name": "Python 3.10.4 64-bit (windows store)",
   "language": "python",
   "name": "python3"
  },
  "language_info": {
   "codemirror_mode": {
    "name": "ipython",
    "version": 3
   },
   "file_extension": ".py",
   "mimetype": "text/x-python",
   "name": "python",
   "nbconvert_exporter": "python",
   "pygments_lexer": "ipython3",
   "version": "3.9.7"
  },
  "orig_nbformat": 4
 },
 "nbformat": 4,
 "nbformat_minor": 2
}
