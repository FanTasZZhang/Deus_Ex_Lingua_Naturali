{
 "cells": [
  {
   "cell_type": "code",
   "execution_count": 119,
   "metadata": {},
   "outputs": [
    {
     "name": "stderr",
     "output_type": "stream",
     "text": [
      "[nltk_data] Downloading package punkt to\n",
      "[nltk_data]     /Users/williamchen/nltk_data...\n",
      "[nltk_data]   Package punkt is already up-to-date!\n",
      "[nltk_data] Downloading package stopwords to\n",
      "[nltk_data]     /Users/williamchen/nltk_data...\n",
      "[nltk_data]   Package stopwords is already up-to-date!\n"
     ]
    }
   ],
   "source": [
    "import string\n",
    "import re\n",
    "import pandas as pd\n",
    "import numpy as np\n",
    "import nltk\n",
    "nltk.download('punkt')\n",
    "nltk.download('stopwords')\n",
    "from nltk.corpus import stopwords\n",
    "from nltk.tokenize.toktok import ToktokTokenizer\n",
    "from sklearn.naive_bayes import MultinomialNB\n",
    "from sklearn.metrics import classification_report,accuracy_score\n",
    "\n",
    "from sklearn.feature_extraction.text import CountVectorizer\n",
    "from sklearn.feature_extraction.text import TfidfVectorizer\n"
   ]
  },
  {
   "cell_type": "markdown",
   "metadata": {},
   "source": [
    "### Import the dataset"
   ]
  },
  {
   "cell_type": "code",
   "execution_count": null,
   "metadata": {},
   "outputs": [],
   "source": [
    "imdb_data = pd.read_csv('./IMDB_Dataset.csv')\n",
    "imdb_data.head()"
   ]
  },
  {
   "cell_type": "code",
   "execution_count": null,
   "metadata": {},
   "outputs": [],
   "source": [
    "imdb_data['sentiment'].value_counts()"
   ]
  },
  {
   "cell_type": "markdown",
   "metadata": {},
   "source": [
    "### Generate the Training and Testing data by dividing the dataset as 4:1"
   ]
  },
  {
   "cell_type": "code",
   "execution_count": 54,
   "metadata": {},
   "outputs": [
    {
     "data": {
      "text/plain": [
       "((30000,), (30000,), (10000,), (10000,))"
      ]
     },
     "execution_count": 54,
     "metadata": {},
     "output_type": "execute_result"
    }
   ],
   "source": [
    "train_reviews=imdb_data.review[:30000]\n",
    "train_sentiments=imdb_data.sentiment[:30000]\n",
    "\n",
    "val_reviews = imdb_data.review[30000:40000]\n",
    "val_sentiments = imdb_data.review[30000:40000]\n",
    "\n",
    "test_reviews=imdb_data.review[40000:]\n",
    "test_sentiments=imdb_data.sentiment[40000:]\n",
    "\n",
    "train_reviews.shape,train_sentiments.shape, test_reviews.shape,test_sentiments.shape\n"
   ]
  },
  {
   "cell_type": "markdown",
   "metadata": {},
   "source": [
    "### Make sure that the split is balanced in general"
   ]
  },
  {
   "cell_type": "code",
   "execution_count": null,
   "metadata": {},
   "outputs": [],
   "source": [
    "train_sentiments.value_counts()"
   ]
  },
  {
   "cell_type": "markdown",
   "metadata": {},
   "source": [
    "### Preprocessing the dataset"
   ]
  },
  {
   "cell_type": "code",
   "execution_count": null,
   "metadata": {},
   "outputs": [],
   "source": [
    "# tokenizer = ToktokTokenizer()\n",
    "# stopword_list=nltk.corpus.stopwords.words('english')\n",
    "\n",
    "# #Stemming the text, e.g. am, are, is -> be\n",
    "# def simple_stemmer(text):\n",
    "#     ps=nltk.porter.PorterStemmer()\n",
    "#     text= ' '.join([ps.stem(word) for word in text.split()])\n",
    "#     return text\n",
    "\n",
    "# train_reviews = train_reviews.apply(simple_stemmer)\n",
    "# test_reviews = test_reviews.apply(simple_stemmer)"
   ]
  },
  {
   "cell_type": "code",
   "execution_count": null,
   "metadata": {},
   "outputs": [],
   "source": [
    "# set stopwords to english\n",
    "# stop = set(stopwords.words('english'))\n",
    "# print(stop)"
   ]
  },
  {
   "cell_type": "code",
   "execution_count": null,
   "metadata": {},
   "outputs": [],
   "source": [
    "# #removing the stopwords\n",
    "# def remove_stopwords(text, is_lower_case=False):\n",
    "#     tokens = tokenizer.tokenize(text)\n",
    "#     tokens = [token.strip() for token in tokens]\n",
    "#     if is_lower_case:\n",
    "#         filtered_tokens = [token for token in tokens if token not in stopword_list]\n",
    "#     else:\n",
    "#         filtered_tokens = [token for token in tokens if token.lower() not in stopword_list]\n",
    "#     filtered_text = ' '.join(filtered_tokens)    \n",
    "#     return filtered_text\n",
    "\n",
    "# train_reviews = train_reviews.apply(remove_stopwords)\n",
    "# test_reviews = test_reviews.apply(remove_stopwords)\n"
   ]
  },
  {
   "cell_type": "markdown",
   "metadata": {},
   "source": [
    "如果在max_df中超过百分之50的一个词其中大部分都在positive，positive indicator？"
   ]
  },
  {
   "cell_type": "markdown",
   "metadata": {},
   "source": [
    " # Naive bayes model\n",
    " https://scikit-learn.org/stable/modules/generated/sklearn.naive_bayes.MultinomialNB.html"
   ]
  },
  {
   "cell_type": "markdown",
   "metadata": {},
   "source": [
    "## Method that take in the training dataset, then return the positive and negative words-log probability dictionary.\n"
   ]
  },
  {
   "cell_type": "code",
   "execution_count": null,
   "metadata": {},
   "outputs": [],
   "source": [
    "'''\n",
    "Method that take in the training dataset, then return the positive and negative words log probability.\n",
    "Input: train_reviews: reviews (sentences) for training\n",
    "       train_sentiments: sentiments (label) for training\n",
    "       tfidf: boolean variable indicating whether using bow or tfidf\n",
    "       alpha: laplance smoothing variable, default to be 1.0\n",
    "       ngram_range: the scale of ngram model will be used, default = (1,1) unigram\n",
    "return: negative_word_log_prob_dict: dictionary that contains the word:log probability pair for negative class\n",
    "        positive_word_log_prob_dict: dictionary that contains the word:log probability pair for positive class\n",
    "        mnb: the trained multinomial naive bayes model, later can be used for testing\n",
    "        transformed_test_reviews: transformed test reviews that later can be used for testing\n",
    "        vec: either the tfidfVectorize build from tfidf model or the CountVectorizer build from Bag of word model.\n",
    "'''\n",
    "\n",
    "def generate_log_prob(train_reviews, train_sentiments, tfidf=False, alpha=1.0, ngram_range = (1,1)):\n",
    "\n",
    "    if (tfidf):\n",
    "        #Tfidf vectorizer\n",
    "        vec=TfidfVectorizer(use_idf=tfidf, ngram_range=ngram_range)\n",
    "        #transformed train reviews\n",
    "        transformed_train_reviews=vec.fit_transform(train_reviews)\n",
    "        #transformed test reviews\n",
    "        transformed_test_reviews=vec.transform(test_reviews)\n",
    "    else:\n",
    "        vec=CountVectorizer(ngram_range=(1,1))\n",
    "        transformed_train_reviews=vec.fit_transform(train_reviews)\n",
    "        transformed_test_reviews=vec.transform(test_reviews)\n",
    "\n",
    "    #training the model\n",
    "    mnb = MultinomialNB(alpha=alpha)\n",
    "\n",
    "    #fitting the naive bayes for bag of words\n",
    "    mnb = mnb.fit(transformed_train_reviews, train_sentiments)\n",
    "    negative_log_prob = mnb.feature_log_prob_[0]\n",
    "    positive_log_prob = mnb.feature_log_prob_[1]\n",
    "\n",
    "    # Generate two dict: word:log_prob\n",
    "    negative_word_log_prob_dict = {}\n",
    "    positive_word_log_prob_dict = {}\n",
    "    for word, index in vec.vocabulary_.items():\n",
    "        negative_word_log_prob_dict[word] = negative_log_prob[index]\n",
    "        positive_word_log_prob_dict[word] = positive_log_prob[index]\n",
    "    \n",
    "    return negative_word_log_prob_dict, positive_word_log_prob_dict, mnb, transformed_test_reviews, vec"
   ]
  },
  {
   "cell_type": "code",
   "execution_count": 346,
   "metadata": {},
   "outputs": [],
   "source": [
    "# Page 3 count wrong by value\n",
    "\n",
    "def calculate_reweight_dict(positive_prob_dict, negative_prob_dict, dataset, threshold=0.1):\n",
    "    wrongly_classified_token_dict = {} # counts how many times a token has negative impact on wrongly classified sentence\n",
    "    token_dict = {} # counts how many times a token has appeared in total\n",
    "    reweight_dict = {}\n",
    "    for sentence in dataset:\n",
    "        real_label = sentence[6:14]\n",
    "        tokens = sentence[17:].split(\" \")\n",
    "        for token in tokens:\n",
    "            if token not in token_dict:\n",
    "                token_dict[token] = 1\n",
    "            else:\n",
    "                token_dict[token] += 1\n",
    "        if real_label == \"positive\": # marked as negative\n",
    "            for token in tokens:\n",
    "                if token not in positive_prob_dict: continue\n",
    "                elif positive_prob_dict[token] < negative_prob_dict[token]:\n",
    "                    if token not in wrongly_classified_token_dict:\n",
    "                        wrongly_classified_token_dict[token] = 1\n",
    "                    else:\n",
    "                        wrongly_classified_token_dict[token] += 1\n",
    "        elif real_label == \"negative\": # marked as positive\n",
    "            for token in tokens:\n",
    "                if token not in positive_prob_dict: continue\n",
    "                elif negative_prob_dict[token] < positive_prob_dict[token]:\n",
    "                    if token not in wrongly_classified_token_dict:\n",
    "                        wrongly_classified_token_dict[token] = 1\n",
    "                    else:\n",
    "                        wrongly_classified_token_dict[token] += 1\n",
    "    # print(wrongly_classified_token_dict)\n",
    "    for word, prob in wrongly_classified_token_dict.items():\n",
    "        # print(word, prob)\n",
    "        weight = 0\n",
    "        if positive_prob_dict[word] < negative_prob_dict[word]:\n",
    "            weight = positive_prob_dict[word] - negative_prob_dict[word]\n",
    "        elif negative_prob_dict[word] < positive_prob_dict[word]:\n",
    "            weight = negative_prob_dict[word] - positive_prob_dict[word]\n",
    "        multiplier = 1 - wrongly_classified_token_dict[word] / token_dict[word]\n",
    "        if multiplier == 0:\n",
    "            reweight_dict[word] = 0\n",
    "        else:\n",
    "            reweight_dict[word] = np.exp(weight * multiplier)\n",
    "    return reweight_dict\n",
    "    \n",
    "    "
   ]
  },
  {
   "cell_type": "markdown",
   "metadata": {},
   "source": [
    "## Method that given input word, manually change the weight of the word in naive bayes model"
   ]
  },
  {
   "cell_type": "code",
   "execution_count": 179,
   "metadata": {},
   "outputs": [],
   "source": [
    "'''\n",
    "This method will take in a word:scale dict, then take in the negative and positive word:log_probability dict, manually change the weight of the words in the model and the dict\n",
    "Input: word_change_scale: this is the word-scale dictionary, how much the weight of the word should be changed, For example if the value is 0.5, we will say \n",
    "                          the probability of the word in negative class should multiply 0.5, in original probability, we take power to the scale\n",
    "       model: the trained naive bayes model, which the feature_log_prob_ attribute will be manually changed based on previous two params\n",
    "       negative_word_log_prob_dict: dictionary that contains the word:log probability pair for negative class, which some values will be changed\n",
    "       positive_word_log_prob_dict: dictionary that contains the word:log probability pair for positive class, which some values will be changed\n",
    "       vec: either the tfidfVectorize build from tfidf model or the CountVectorizer build from Bag of word model.\n",
    "return: negative_word_change_scale: The modified negative dict\n",
    "        positive_word_change_scale: The modified positive dict\n",
    "        model: The modified naive bayes model\n",
    "'''\n",
    "\n",
    "def change_weight(word_change_scale, model, negative_word_log_prob_dict, positive_word_log_prob_dict, vec):\n",
    "    for word, scale in word_change_scale.items():\n",
    "        # change the weight of words in negative and positive word:log_prob dict\n",
    "        negative_word_log_prob_dict[word] *= scale\n",
    "        positive_word_log_prob_dict[word] *= scale\n",
    "\n",
    "        # change the weight of words in the model\n",
    "        index_in_model = vec.vocabulary_[word]\n",
    "        model.feature_log_prob_[0][index_in_model] *= scale\n",
    "        model.feature_log_prob_[1][index_in_model] *= scale\n",
    "\n",
    "    return negative_word_log_prob_dict, positive_word_log_prob_dict, model"
   ]
  },
  {
   "cell_type": "markdown",
   "metadata": {},
   "source": [
    "### Predict the result using bag of word methods"
   ]
  },
  {
   "cell_type": "code",
   "execution_count": 379,
   "metadata": {},
   "outputs": [],
   "source": [
    "neg, pos, mnb, transformed_test_reviews, vec= generate_log_prob(train_reviews, train_sentiments, alpha = 0.05)"
   ]
  },
  {
   "cell_type": "markdown",
   "metadata": {},
   "source": [
    "This block represent the length of the vocabulary"
   ]
  },
  {
   "cell_type": "code",
   "execution_count": 380,
   "metadata": {},
   "outputs": [
    {
     "data": {
      "text/plain": [
       "159518"
      ]
     },
     "execution_count": 380,
     "metadata": {},
     "output_type": "execute_result"
    }
   ],
   "source": [
    "len(vec.vocabulary_.items())"
   ]
  },
  {
   "cell_type": "markdown",
   "metadata": {},
   "source": [
    "Following two blocks shows the word:log_prob key value pair for each phrase in the vocabulary"
   ]
  },
  {
   "cell_type": "code",
   "execution_count": 52,
   "metadata": {},
   "outputs": [],
   "source": [
    "# pos"
   ]
  },
  {
   "cell_type": "code",
   "execution_count": 53,
   "metadata": {},
   "outputs": [],
   "source": [
    "# neg"
   ]
  },
  {
   "cell_type": "markdown",
   "metadata": {},
   "source": [
    "Following block use the trained model to do the prediction"
   ]
  },
  {
   "cell_type": "code",
   "execution_count": 383,
   "metadata": {},
   "outputs": [],
   "source": [
    "mnb_bow_predict = mnb.predict(transformed_test_reviews)\n"
   ]
  },
  {
   "cell_type": "markdown",
   "metadata": {},
   "source": [
    "To check the corresponding test reviews log probability and original probability.\n"
   ]
  },
  {
   "cell_type": "markdown",
   "metadata": {},
   "source": [
    "NOTICE: this probability was being normalized across all classes, so the log_probability was not the summation of log class probability and log probability of all phrases in the sentence. You can see that the summation of predict_proba() method is 1. The predict_log_proba() method calculate the log probability based on the normalized one."
   ]
  },
  {
   "cell_type": "code",
   "execution_count": 384,
   "metadata": {},
   "outputs": [
    {
     "data": {
      "text/plain": [
       "(array([[1.00000000e+00, 1.04234341e-14]]),\n",
       " array([[  0.        , -32.19471984]]))"
      ]
     },
     "execution_count": 384,
     "metadata": {},
     "output_type": "execute_result"
    }
   ],
   "source": [
    "mnb.predict_proba(transformed_test_reviews[0]), mnb.predict_log_proba(transformed_test_reviews[0])"
   ]
  },
  {
   "cell_type": "markdown",
   "metadata": {},
   "source": [
    "This predict() method will return the predict value of given transformed review"
   ]
  },
  {
   "cell_type": "code",
   "execution_count": 385,
   "metadata": {},
   "outputs": [
    {
     "data": {
      "text/plain": [
       "(array(['negative'], dtype='<U8'), array(['negative'], dtype='<U8'))"
      ]
     },
     "execution_count": 385,
     "metadata": {},
     "output_type": "execute_result"
    }
   ],
   "source": [
    "mnb.predict(transformed_test_reviews[0]), mnb.predict(transformed_test_reviews[1])"
   ]
  },
  {
   "cell_type": "markdown",
   "metadata": {},
   "source": [
    "This class_log_prior_ attribute of the MultinomialNB() model gives the prior class probability. In the order of the classes_ attribute"
   ]
  },
  {
   "cell_type": "code",
   "execution_count": 386,
   "metadata": {},
   "outputs": [
    {
     "data": {
      "text/plain": [
       "(array(['negative', 'positive'], dtype='<U8'),\n",
       " array([-0.69279724, -0.69349724]))"
      ]
     },
     "execution_count": 386,
     "metadata": {},
     "output_type": "execute_result"
    }
   ],
   "source": [
    "mnb.classes_, mnb.class_log_prior_"
   ]
  },
  {
   "cell_type": "markdown",
   "metadata": {},
   "source": [
    "Now we put the entire training set into the trained Naive Bayes model, and ge the score"
   ]
  },
  {
   "cell_type": "code",
   "execution_count": 387,
   "metadata": {},
   "outputs": [
    {
     "name": "stdout",
     "output_type": "stream",
     "text": [
      "mnb_bow_score : 0.8492\n"
     ]
    }
   ],
   "source": [
    "mnb_bow_predict = mnb.predict(transformed_test_reviews)\n",
    "mnb_bow_score = accuracy_score(test_sentiments, mnb_bow_predict)\n",
    "print(\"mnb_bow_score :\",mnb_bow_score)\n"
   ]
  },
  {
   "cell_type": "markdown",
   "metadata": {},
   "source": [
    "Classification report"
   ]
  },
  {
   "cell_type": "code",
   "execution_count": 388,
   "metadata": {},
   "outputs": [
    {
     "name": "stdout",
     "output_type": "stream",
     "text": [
      "              precision    recall  f1-score   support\n",
      "\n",
      "    Positive       0.83      0.88      0.85      4993\n",
      "    Negative       0.87      0.82      0.85      5007\n",
      "\n",
      "    accuracy                           0.85     10000\n",
      "   macro avg       0.85      0.85      0.85     10000\n",
      "weighted avg       0.85      0.85      0.85     10000\n",
      "\n"
     ]
    }
   ],
   "source": [
    "#Classification report for bag of words \n",
    "mnb_bow_report=classification_report(test_sentiments,mnb_bow_predict,target_names=['Positive','Negative'])\n",
    "print(mnb_bow_report)"
   ]
  },
  {
   "cell_type": "code",
   "execution_count": 413,
   "metadata": {},
   "outputs": [],
   "source": [
    "wrong_labeled_NB_BOW = []\n",
    "pattern = r'[^A-Za-z0-9]+'\n",
    "\n",
    "for i in range(mnb_bow_predict.size):\n",
    "    start_index = test_sentiments.index.start\n",
    "    if(mnb_bow_predict[i] != test_sentiments[start_index + i]):\n",
    "        sentiment = str(imdb_data['sentiment'][start_index + i])\n",
    "        review = str(imdb_data['review'][start_index + i])\n",
    "        review = re.sub(pattern, \" \", review.lower())\n",
    "        wrong_labeled_NB_BOW.append(sentiment, review)\n",
    "\n",
    "# f = open(\"Naive Bayes - Bag of Words Wrongly labeled sentences.txt\", \"w\")\n",
    "# f.write(wrong_labeled_NB_BOW)\n",
    "# f.close()"
   ]
  },
  {
   "cell_type": "code",
   "execution_count": 414,
   "metadata": {},
   "outputs": [],
   "source": [
    "# f = open(\"Naive Bayes - Bag of Words Wrongly labeled sentences.txt\")\n",
    "# dataset = []\n",
    "# for line in f:\n",
    "#     pattern = r'[^A-Za-z0-9]+'\n",
    "#     line = re.sub(pattern, \" \", line.lower())\n",
    "#     dataset.append(line)\n",
    "reweight_dict = calculate_reweight_dict(pos, neg, wrong_labeled_NB_BOW)\n",
    "neg, pos, mnb = change_weight(reweight_dict, mnb, neg, pos, vec)\n",
    "\n",
    "# print(reweight_dict)"
   ]
  },
  {
   "cell_type": "code",
   "execution_count": 415,
   "metadata": {},
   "outputs": [
    {
     "data": {
      "text/plain": [
       "{'other': -6.122171091903819,\n",
       " 'reviewers': -6.129901322653796,\n",
       " 'has': -4.961699621871467,\n",
       " 'mentioned': -7.690736765526609,\n",
       " 'after': -6.199904279765704,\n",
       " 'watching': -5.4788805878338245,\n",
       " 'just': -4.601449969238172,\n",
       " 'oz': -3.2313262292769536,\n",
       " 'episode': -3.737222222566856,\n",
       " 'youll': -7.785370559353655,\n",
       " 'hooked': -2.180230578265786,\n",
       " 'they': -4.738032038456662,\n",
       " 'right': -6.286365596255127,\n",
       " 'exactly': -7.622364936171948,\n",
       " 'what': -5.724650654123562,\n",
       " 'happened': -6.568851197403456,\n",
       " 'mebr': -9.516931418636762,\n",
       " 'first': -5.988408192867169,\n",
       " 'thing': -4.458135827677831,\n",
       " 'struck': -6.21010036649473,\n",
       " 'me': -6.0644418952133075,\n",
       " 'about': -5.59132527579741,\n",
       " 'its': -5.183219231605581,\n",
       " 'brutality': -6.138524169153593,\n",
       " 'unflinching': -11.489919668122665,\n",
       " 'scenes': -5.763145210518089,\n",
       " 'violence': -8.005192227186305,\n",
       " 'which': -6.241378773516806,\n",
       " 'set': -7.285950088927009,\n",
       " 'from': -5.990061380452576,\n",
       " 'word': -6.337907283693206,\n",
       " 'go': -6.495439389643217,\n",
       " 'trust': -9.091778029136822,\n",
       " 'show': -4.964363343182023,\n",
       " 'faint': -10.640490729380367,\n",
       " 'hearted': -6.779635911559317,\n",
       " 'or': -4.704599318268723,\n",
       " 'timid': -0.0,\n",
       " 'pulls': -3.1865679747352624,\n",
       " 'no': -3.584841302976858,\n",
       " 'punches': -9.901914520292022,\n",
       " 'regards': -7.163918053964876,\n",
       " 'drugs': -8.825972886550147,\n",
       " 'sex': -4.984584762588965,\n",
       " 'hardcore': -9.361829937831102,\n",
       " 'classic': -2.7925600076395956,\n",
       " 'use': -6.653899233143181,\n",
       " 'wordbr': -12.20299220200159,\n",
       " 'called': -5.59619319539196,\n",
       " 'nickname': -0.0,\n",
       " 'given': -5.858179047442406,\n",
       " 'oswald': -11.36176324114667,\n",
       " 'maximum': -0.0,\n",
       " 'security': -5.6740472695318065,\n",
       " 'state': -8.617974099991708,\n",
       " 'penitentary': -13.479252479078111,\n",
       " 'focuses': -4.388337416997724,\n",
       " 'mainly': -7.82699427253566,\n",
       " 'emerald': -12.180803482968471,\n",
       " 'city': -4.516398875131165,\n",
       " 'an': -5.648740876348948,\n",
       " 'experimental': -0.0,\n",
       " 'section': -9.040824372423707,\n",
       " 'prison': -7.751600404381475,\n",
       " 'where': -6.092771599756576,\n",
       " 'cells': -11.045895898787064,\n",
       " 'glass': -0.0,\n",
       " 'fronts': -11.92661085048733,\n",
       " 'face': -7.527985646579581,\n",
       " 'inwards': -13.876833042685268,\n",
       " 'so': -5.1692010582720345,\n",
       " 'privacy': -0.0,\n",
       " 'high': -6.974594052850967,\n",
       " 'agenda': -5.346065436806939,\n",
       " 'em': -6.124329584518389,\n",
       " 'home': -6.011331342018352,\n",
       " 'muslims': -11.097053947323797,\n",
       " 'gangstas': -13.142617958820617,\n",
       " 'latinos': -12.096123918570454,\n",
       " 'christians': -0.0,\n",
       " 'italians': -7.221975626361891,\n",
       " 'irish': -0.0,\n",
       " 'moreso': -12.100360044668278,\n",
       " 'scuffles': -13.876833042685268,\n",
       " 'death': -5.862444422630929,\n",
       " 'stares': -0.0,\n",
       " 'dodgy': -7.515388450523496,\n",
       " 'dealings': -0.0,\n",
       " 'shady': -8.159726926201756,\n",
       " 'agreements': -13.161099609232423,\n",
       " 'never': -6.267124713039565,\n",
       " 'far': -5.529076178385451,\n",
       " 'awaybr': -10.203689312228372,\n",
       " 'would': -4.724665550343526,\n",
       " 'say': -6.025308646480963,\n",
       " 'main': -6.200400389808311,\n",
       " 'appeal': -6.760509320507176,\n",
       " 'due': -7.227092948443167,\n",
       " 'fact': -6.027855603364821,\n",
       " 'goes': -6.685568800032321,\n",
       " 'shows': -3.206607842723285,\n",
       " 'wouldnt': -0.0,\n",
       " 'dare': -9.39414812268783,\n",
       " 'forget': -5.809347291409772,\n",
       " 'pretty': -5.637974999347885,\n",
       " 'pictures': -5.864557830615565,\n",
       " 'painted': -8.015595434092155,\n",
       " 'mainstream': -4.190050621468537,\n",
       " 'audiences': -5.760811532153125,\n",
       " 'charm': -5.610833365309452,\n",
       " 'doesnt': -7.334685249072549,\n",
       " 'mess': -2.6741704302584015,\n",
       " 'around': -6.451628110712653,\n",
       " 'ever': -5.762073008199587,\n",
       " 'saw': -4.539228006756813,\n",
       " 'nasty': -6.83142796490557,\n",
       " 'surreal': -3.185843058866145,\n",
       " 'couldnt': -0.0,\n",
       " 'ready': -9.128013012997558,\n",
       " 'watched': -7.293685773529475,\n",
       " 'more': -5.573772173566446,\n",
       " 'developed': -7.813422900455781,\n",
       " 'taste': -8.103243019194236,\n",
       " 'got': -6.414342251810937,\n",
       " 'accustomed': -0.0,\n",
       " 'levels': -4.6040849411495435,\n",
       " 'graphic': -7.205695967778115,\n",
       " 'injustice': -9.506410601447707,\n",
       " 'crooked': -0.0,\n",
       " 'guards': -0.0,\n",
       " 'wholl': -11.6944242339964,\n",
       " 'sold': -9.262029271740989,\n",
       " 'out': -5.699929398886505,\n",
       " 'nickel': -0.0,\n",
       " 'inmates': -10.219014976359633,\n",
       " 'kill': -5.714842159943094,\n",
       " 'order': -8.232891899548022,\n",
       " 'get': -5.702355511438907,\n",
       " 'away': -6.496549869277551,\n",
       " 'well': -3.4256577480770396,\n",
       " 'mannered': -0.0,\n",
       " 'middle': -6.587869361457028,\n",
       " 'class': -7.577451349001129,\n",
       " 'being': -6.262431842777973,\n",
       " 'turned': -5.981694712844834,\n",
       " 'into': -6.1024015420048885,\n",
       " 'bitches': -12.17651458119348,\n",
       " 'their': -5.434088647065307,\n",
       " 'lack': -4.3305296604256265,\n",
       " 'street': -7.913239248483032,\n",
       " 'skills': -7.3920166923804205,\n",
       " 'experience': -3.84356318370528,\n",
       " 'may': -4.783220497964972,\n",
       " 'become': -5.054080522515843,\n",
       " 'comfortable': -6.039814530647835,\n",
       " 'uncomfortable': -7.223654471999999,\n",
       " 'if': -5.164078584839049,\n",
       " 'can': -6.2080508581430625,\n",
       " 'touch': -3.9618958646423548,\n",
       " 'your': -5.867561327866046,\n",
       " 'darker': -4.304879103470241,\n",
       " 'side': -5.791436651380506,\n",
       " 'wonderful': -1.5553491048023558,\n",
       " 'little': -5.739254739372579,\n",
       " 'production': -5.970267967235092,\n",
       " 'filming': -6.785600341829756,\n",
       " 'technique': -8.126536338668759,\n",
       " 'very': -3.6704370207534924,\n",
       " 'unassuming': -11.632912771786215,\n",
       " 'fashion': -8.417282333101001,\n",
       " 'gives': -3.8390164100497537,\n",
       " 'comforting': -0.0,\n",
       " 'sometimes': -3.9640325908904672,\n",
       " 'discomforting': -12.610097968926237,\n",
       " 'sense': -5.899613109066676,\n",
       " 'realism': -3.451636988810864,\n",
       " 'entire': -5.840394689699411,\n",
       " 'piece': -4.962510853465292,\n",
       " 'actors': -5.512510946925507,\n",
       " 'extremely': -7.296765734861792,\n",
       " 'chosen': -6.825183223609004,\n",
       " 'michael': -5.8593465521991,\n",
       " 'sheen': -8.302279794152632,\n",
       " 'only': -4.272449078633096,\n",
       " 'he': -4.846745716434583,\n",
       " 'voices': -8.284855421251104,\n",
       " 'down': -6.288022386292263,\n",
       " 'pat': -8.40209734895239,\n",
       " 'too': -5.624256372809425,\n",
       " 'truly': -4.58552994483453,\n",
       " 'see': -4.761682780311742,\n",
       " 'seamless': -0.0,\n",
       " 'editing': -5.168361011664052,\n",
       " 'guided': -0.0,\n",
       " 'by': -5.314256241336297,\n",
       " 'references': -9.19931853788572,\n",
       " 'williams': -7.340648825285481,\n",
       " 'diary': -7.920296021970009,\n",
       " 'entries': -7.115178585459562,\n",
       " 'worth': -5.946546627219591,\n",
       " 'terrificly': -12.566836657441435,\n",
       " 'written': -6.8204802495993455,\n",
       " 'performed': -6.135644459722009,\n",
       " 'masterful': -0.0,\n",
       " 'great': -1.65734453970785,\n",
       " 'masters': -7.931722534293818,\n",
       " 'comedy': -5.495046576855086,\n",
       " 'his': -4.2083909925558265,\n",
       " 'life': -4.103850780480887,\n",
       " 'really': -5.828262872743068,\n",
       " 'comes': -7.568841743807237,\n",
       " 'things': -7.028312793898953,\n",
       " 'fantasy': -5.352946699502295,\n",
       " 'guard': -8.77489446358075,\n",
       " 'rather': -6.159007272367893,\n",
       " 'than': -5.656256610805741,\n",
       " 'traditional': -2.552785304105031,\n",
       " 'dream': -4.449685456512618,\n",
       " 'techniques': -4.897699657625369,\n",
       " 'remains': -5.206483952502532,\n",
       " 'solid': -1.9749258511294283,\n",
       " 'then': -5.290060513514422,\n",
       " 'disappears': -0.0,\n",
       " 'plays': -4.504572305294464,\n",
       " 'our': -3.566447706907736,\n",
       " 'knowledge': -7.366095771917362,\n",
       " 'senses': -0.0,\n",
       " 'particularly': -6.7451628465829785,\n",
       " 'concerning': -8.4637806656626,\n",
       " 'orton': -0.0,\n",
       " 'halliwell': -12.143734255894547,\n",
       " 'sets': -7.758786888858454,\n",
       " 'flat': -3.2901431880248375,\n",
       " 'murals': -13.489421808152205,\n",
       " 'decorating': -12.328302757645792,\n",
       " 'every': -6.76489247439106,\n",
       " 'surface': -4.6327989976965736,\n",
       " 'terribly': -4.749893215410181,\n",
       " 'done': -7.311250116589824,\n",
       " 'thought': -6.725321801709869,\n",
       " 'way': -6.596928281172621,\n",
       " 'spend': -4.716350396874267,\n",
       " 'time': -6.232702114511408,\n",
       " 'hot': -7.749647952555449,\n",
       " 'summer': -4.599949215801085,\n",
       " 'weekend': -9.05444446696341,\n",
       " 'sitting': -4.795155598026809,\n",
       " 'air': -8.50642814103784,\n",
       " 'conditioned': -11.627152865637061,\n",
       " 'theater': -6.9707740176769395,\n",
       " 'lighthearted': -9.52134583434862,\n",
       " 'plot': -4.393622328389825,\n",
       " 'simplistic': -8.15243132434829,\n",
       " 'dialogue': -4.443225707437639,\n",
       " 'witty': -2.8328555793990597,\n",
       " 'characters': -6.44957529104132,\n",
       " 'likable': -6.146102949758208,\n",
       " 'even': -4.007776955315161,\n",
       " 'bread': -3.976439766585721,\n",
       " 'suspected': -0.0,\n",
       " 'serial': -0.0,\n",
       " 'killer': -6.176960850341811,\n",
       " 'while': -5.959636450725165,\n",
       " 'some': -5.3885470258552735,\n",
       " 'disappointed': -5.4739007199184995,\n",
       " 'when': -5.719199582876291,\n",
       " 'realize': -8.02395986458664,\n",
       " 'match': -7.1436578818275,\n",
       " 'point': -4.645950840800593,\n",
       " 'risk': -7.475957732513747,\n",
       " 'addiction': -0.0,\n",
       " 'proof': -5.8230070043926965,\n",
       " 'woody': -5.684592898965547,\n",
       " 'allen': -8.748786664042184,\n",
       " 'still': -3.6058983872545776,\n",
       " 'fully': -5.105733180050678,\n",
       " 'control': -8.037832975890417,\n",
       " 'style': -5.42687722909394,\n",
       " 'many': -4.554885562996159,\n",
       " 'us': -4.106859168708154,\n",
       " 'grown': -6.287539391598626,\n",
       " 'lovebr': -10.17239227210159,\n",
       " 'most': -4.880777545869875,\n",
       " 'id': -0.0,\n",
       " 'laughed': -8.045092010055662,\n",
       " 'woodys': -11.96663352068363,\n",
       " 'comedies': -3.543524976321862,\n",
       " 'years': -3.7572867402484333,\n",
       " 'decade': -6.293297395041091,\n",
       " 'ive': -7.184569243634759,\n",
       " 'been': -4.932265026370097,\n",
       " 'impressed': -3.0935487716666974,\n",
       " 'scarlet': -0.0,\n",
       " 'johanson': -12.395825936879753,\n",
       " 'she': -5.4592066990882495,\n",
       " 'managed': -7.1286173517513785,\n",
       " 'tone': -6.704190523139196,\n",
       " 'her': -4.8298352133055165,\n",
       " 'sexy': -6.291722520987084,\n",
       " 'image': -7.679145667316381,\n",
       " 'jumped': -4.5099166075322055,\n",
       " 'average': -6.249956599188222,\n",
       " 'spirited': -6.154805031521634,\n",
       " 'young': -4.032790264264779,\n",
       " 'womanbr': -11.316158746222627,\n",
       " 'crown': -0.0,\n",
       " 'jewel': -3.627288802804792,\n",
       " 'career': -8.225398480729567,\n",
       " 'wittier': -12.46462173033835,\n",
       " 'devil': -0.0,\n",
       " 'wears': -7.399721548460652,\n",
       " 'prada': -12.746209306475661,\n",
       " 'interesting': -5.755229465740324,\n",
       " 'superman': -0.0,\n",
       " 'friends': -6.4371611888327855,\n",
       " 'basically': -4.983831115645017,\n",
       " 'theres': -7.715768430512588,\n",
       " 'family': -4.100096804656482,\n",
       " 'boy': -6.355545658817754,\n",
       " 'jake': -0.0,\n",
       " 'thinks': -6.696658707232381,\n",
       " 'zombie': -0.0,\n",
       " 'closet': -0.0,\n",
       " 'parents': -5.501237074824397,\n",
       " 'fighting': -8.04180895815275,\n",
       " 'timebr': -9.046601116403076,\n",
       " 'slower': -8.96442086255788,\n",
       " 'soap': -4.727141030311601,\n",
       " 'opera': -7.954287274036633,\n",
       " 'suddenly': -5.2580319333640695,\n",
       " 'decides': -8.011038782093168,\n",
       " 'rambo': -0.0,\n",
       " 'zombiebr': -14.041079127971035,\n",
       " 'ok': -4.243533900769528,\n",
       " 'youre': -7.811354097252095,\n",
       " 'going': -5.721677587809521,\n",
       " 'make': -4.573686531067543,\n",
       " 'must': -5.824572176976445,\n",
       " 'decide': -6.107844607673004,\n",
       " 'thriller': -5.658903858030524,\n",
       " 'drama': -4.541192809681741,\n",
       " 'watchable': -4.832072230908393,\n",
       " 'divorcing': -13.002825637709353,\n",
       " 'arguing': -6.040467303502113,\n",
       " 'like': -5.055555848716895,\n",
       " 'real': -5.585366955552603,\n",
       " 'we': -5.954828173653344,\n",
       " 'totally': -5.805270254508297,\n",
       " 'ruins': -5.521440159549763,\n",
       " 'expected': -6.768346610086071,\n",
       " 'boogeyman': -0.0,\n",
       " 'similar': -5.189511178385116,\n",
       " 'instead': -3.29691105020529,\n",
       " 'meaningless': -3.0510054312458994,\n",
       " 'spotsbr': -13.039617904222574,\n",
       " '10': -7.147811981452659,\n",
       " 'playing': -7.819977772640752,\n",
       " 'descent': -0.0,\n",
       " 'dialogs': -5.286335835379483,\n",
       " 'shots': -5.29088606605892,\n",
       " 'ignore': -7.437367812147422,\n",
       " 'them': -6.203476372723227,\n",
       " 'matteis': -12.918571461701841,\n",
       " 'love': -2.5532469856726365,\n",
       " 'money': -3.341950007246612,\n",
       " 'visually': -4.949390569329639,\n",
       " 'stunning': -2.3821465304719203,\n",
       " 'watch': -6.393150343685766,\n",
       " 'mr': -6.389534810405706,\n",
       " 'mattei': -11.223084153616536,\n",
       " 'offers': -5.5623513908721085,\n",
       " 'vivid': -3.370709047774544,\n",
       " 'portrait': -0.0,\n",
       " 'human': -3.456906114872314,\n",
       " 'relations': -6.082834875878671,\n",
       " 'seems': -4.975196382268868,\n",
       " 'telling': -6.804594050955628,\n",
       " 'power': -5.917801931218644,\n",
       " 'success': -5.527007534210613,\n",
       " 'do': -4.992690644873485,\n",
       " 'people': -6.2249639874315585,\n",
       " 'different': -3.1996007966063114,\n",
       " 'situations': -4.636095325449323,\n",
       " 'encounter': -7.199750747166366,\n",
       " 'variation': -10.5567478059418,\n",
       " 'arthur': -6.277696738369585,\n",
       " 'schnitzlers': -13.002071990132709,\n",
       " 'play': -6.088120155942875,\n",
       " 'same': -6.995557679374942,\n",
       " 'theme': -4.639104555017052,\n",
       " 'director': -5.000523592774244,\n",
       " 'transfers': -12.018933943869476,\n",
       " 'action': -7.2801348158226595,\n",
       " 'present': -5.304367507297579,\n",
       " 'new': -5.207823925655095,\n",
       " 'york': -6.101734976794722,\n",
       " 'these': -6.392442014374365,\n",
       " 'meet': -6.986967111151584,\n",
       " 'connect': -7.6554960147464435,\n",
       " 'each': -3.704706012852484,\n",
       " 'connected': -9.191210319264512,\n",
       " 'another': -6.126334288107466,\n",
       " 'next': -7.2422395326637865,\n",
       " 'person': -7.1603110813236395,\n",
       " 'know': -6.339755636403753,\n",
       " 'previous': -5.945704251007504,\n",
       " 'contact': -7.384907601978021,\n",
       " 'stylishly': -0.0,\n",
       " 'sophisticated': -5.187426078730737,\n",
       " 'luxurious': -11.711006941334073,\n",
       " 'look': -5.923942548681497,\n",
       " 'taken': -7.3993219602122045,\n",
       " 'how': -5.951866918331855,\n",
       " 'live': -4.347884989267873,\n",
       " 'world': -3.670893591869691,\n",
       " 'own': -3.998266234236152,\n",
       " 'gets': -6.542297662402115,\n",
       " 'souls': -0.0,\n",
       " 'picture': -6.254510339552674,\n",
       " 'stages': -0.0,\n",
       " 'loneliness': -3.035575626488848,\n",
       " 'inhabits': -11.768605151522411,\n",
       " 'big': -7.189166351368059,\n",
       " 'best': -2.349021135130872,\n",
       " 'place': -7.11796830555969,\n",
       " 'find': -5.044239835518382,\n",
       " 'sincere': -3.791951489649537,\n",
       " 'fulfillment': -0.0,\n",
       " 'case': -6.077477348888521,\n",
       " 'encounterbr': -12.476907123811234,\n",
       " 'acting': -4.4213435283810805,\n",
       " 'good': -5.920532380650525,\n",
       " 'under': -7.512431415091602,\n",
       " 'direction': -5.460513291035129,\n",
       " 'steve': -8.895314941070241,\n",
       " 'buscemi': -11.244827326458829,\n",
       " 'rosario': -11.143637110775801,\n",
       " 'dawson': -10.53989657191134,\n",
       " 'carol': -6.168605243834261,\n",
       " 'kane': -6.538227401173992,\n",
       " 'imperioli': -0.0,\n",
       " 'adrian': -8.055518388977806,\n",
       " 'grenier': -13.511065055412397,\n",
       " 'rest': -4.808361942753366,\n",
       " 'talented': -7.670857784987113,\n",
       " 'cast': -5.0398142004065996,\n",
       " 'come': -6.990128429714197,\n",
       " 'alivebr': -11.694316495295801,\n",
       " 'wish': -6.725571953643389,\n",
       " 'luck': -9.076116343981932,\n",
       " 'await': -11.25442484530246,\n",
       " 'anxiously': -11.740945063623844,\n",
       " 'work': -6.512556308580395,\n",
       " 'probably': -6.592335155216034,\n",
       " 'my': -5.1861334089111155,\n",
       " 'alltime': -9.471459963917756,\n",
       " 'favorite': -1.3198218472071896,\n",
       " 'story': -4.511583303744214,\n",
       " 'selflessness': -12.791604574258887,\n",
       " 'sacrifice': -7.463442106297799,\n",
       " 'dedication': -0.0,\n",
       " 'noble': -8.161520339477722,\n",
       " 'cause': -8.028361109169275,\n",
       " 'preachy': -10.31408562736155,\n",
       " 'boring': -1.9042977073683682,\n",
       " 'old': -7.135866939553255,\n",
       " 'despite': -7.0409677328679905,\n",
       " 'having': -6.920053508637213,\n",
       " 'seen': -6.443833675320984,\n",
       " '15': -5.034280335553986,\n",
       " 'times': -4.561498680507055,\n",
       " 'last': -6.120475522692052,\n",
       " '25': -7.684726652197624,\n",
       " 'paul': -4.849780166228788,\n",
       " 'lukas': -10.73416958587287,\n",
       " 'performance': -3.9944140554889715,\n",
       " 'brings': -4.026644953583894,\n",
       " 'tears': -2.333465474941876,\n",
       " 'eyes': -5.935001243702384,\n",
       " 'bette': -0.0,\n",
       " 'davis': -0.0,\n",
       " 'few': -6.479704568880363,\n",
       " 'sympathetic': -6.835383271512326,\n",
       " 'roles': -5.010119984548392,\n",
       " 'delight': -1.972410057750265,\n",
       " 'kids': -7.53177133469964,\n",
       " 'grandma': -10.997957442728225,\n",
       " 'says': -7.191468626378202,\n",
       " 'midgets': -11.692359641733924,\n",
       " 'children': -5.386306832380788,\n",
       " 'makes': -4.724648861316048,\n",
       " 'fun': -2.826741551044523,\n",
       " 'mothers': -6.0208218587471505,\n",
       " 'slow': -5.815010370551011,\n",
       " 'awakening': -0.0,\n",
       " 'whats': -0.0,\n",
       " 'happening': -7.5331462480467275,\n",
       " 'roof': -8.125088753164855,\n",
       " 'believable': -3.0906788548933073,\n",
       " 'startling': -5.478659835493927,\n",
       " 'had': -5.13561837280456,\n",
       " 'dozen': -7.146895919093287,\n",
       " 'thumbs': -5.015704253083845,\n",
       " 'theyd': -10.232398634906202,\n",
       " 'up': -5.627330963206541,\n",
       " 'sure': -7.026000302818905,\n",
       " 'resurrection': -11.763228502226134,\n",
       " 'dated': -5.3938797576265864,\n",
       " 'series': -3.4101495749444335,\n",
       " 'tech': -9.80385600219339,\n",
       " 'today': -1.9554873377790485,\n",
       " 'bring': -6.683947688032977,\n",
       " 'back': -6.700574365226669,\n",
       " 'kid': -7.177616831427764,\n",
       " 'excitement': -8.401204607037126,\n",
       " 'mei': -11.936064939456818,\n",
       " 'grew': -3.314631393539319,\n",
       " 'black': -7.25623714076063,\n",
       " 'white': -7.903646148367241,\n",
       " 'tv': -6.344707112776443,\n",
       " 'gunsmoke': -11.587449692291004,\n",
       " 'were': -5.08368601070108,\n",
       " 'heros': -0.0,\n",
       " 'vote': -0.0,\n",
       " 'comeback': -8.20856194882805,\n",
       " 'sea': -8.649426131784242,\n",
       " 'need': -7.3783325774232935,\n",
       " 'change': -5.325844185962134,\n",
       " 'pace': -4.436242869219105,\n",
       " 'water': -8.022160009973222,\n",
       " 'thank': -4.775279018630594,\n",
       " 'outlet': -11.40605774665266,\n",
       " 'view': -4.64662551721983,\n",
       " 'viewpoints': -11.37754910279604,\n",
       " 'moviesso': -12.824776766770542,\n",
       " 'any': -4.423066201649171,\n",
       " 'ole': -0.0,\n",
       " 'believe': -5.432608213119478,\n",
       " 'wanna': -0.0,\n",
       " 'nice': -4.846200902855972,\n",
       " 'read': -6.211781327090238,\n",
       " 'plus': -7.903901117957429,\n",
       " 'points': -6.507324021422659,\n",
       " 'rhymes': -0.0,\n",
       " 'lines': -5.688248067743263,\n",
       " 'let': -6.0927880707906015,\n",
       " 'leave': -7.303897730106907,\n",
       " 'doubt': -6.693175569430922,\n",
       " 'lets': -6.340258941404248,\n",
       " 'amazing': -1.4145912955338804,\n",
       " 'fresh': -3.0551830812901986,\n",
       " 'innovative': -0.0,\n",
       " 'idea': -4.501742360007933,\n",
       " '70s': -6.365853100546608,\n",
       " 'aired': -4.547157847745449,\n",
       " 'brilliant': -2.0449825499081715,\n",
       " 'dropped': -6.230993912452806,\n",
       " 'off': -4.651458291372019,\n",
       " '1990': -6.966618508645495,\n",
       " 'funny': -6.735016846148766,\n",
       " 'anymore': -0.0,\n",
       " 'continued': -0.0,\n",
       " 'decline': -8.531952401767239,\n",
       " 'further': -8.271974208384778,\n",
       " 'complete': -4.370560939997315,\n",
       " 'waste': -1.081930132640304,\n",
       " 'todaybr': -10.413567910148341,\n",
       " 'disgraceful': -0.0,\n",
       " 'fallen': -7.580158430694858,\n",
       " 'writing': -5.156939764366377,\n",
       " 'painfully': -1.8130971875912725,\n",
       " 'bad': -2.7803972030641937,\n",
       " 'performances': -3.2184925077884317,\n",
       " 'almost': -6.7133022420791315,\n",
       " 'mildly': -1.784731261660072,\n",
       " 'entertaining': -3.500512172422525,\n",
       " 'respite': -0.0,\n",
       " 'hard': -6.402656268433105,\n",
       " 'creator': -0.0,\n",
       " 'original': -5.401374925913622,\n",
       " 'also': -3.479073651219337,\n",
       " 'chose': -6.801289159154276,\n",
       " 'band': -6.684329041998267,\n",
       " 'hacks': -12.58737863072848,\n",
       " 'followed': -8.539080381083373,\n",
       " 'recognize': -6.149711468972824,\n",
       " 'such': -6.531073923922993,\n",
       " 'brilliance': -5.01899774680841,\n",
       " 'fit': -7.6649556168754485,\n",
       " 'replace': -9.13347508544107,\n",
       " 'mediocrity': -11.63651003387846,\n",
       " 'felt': -6.367284034127503,\n",
       " 'give': -6.298355168795084,\n",
       " 'stars': -7.4408566542552235,\n",
       " 'respect': -8.521536238931706,\n",
       " 'made': -5.379995976473854,\n",
       " 'huge': -6.969670838224285,\n",
       " 'now': -6.00155656944353,\n",
       " 'awful': -1.5209093193026768,\n",
       " 'cant': -0.0,\n",
       " 'encouraged': -0.0,\n",
       " 'positive': -3.986118059435191,\n",
       " 'comments': -8.147796784868673,\n",
       " 'here': -6.138562384094154,\n",
       " 'looking': -5.4831374870229785,\n",
       " 'forward': -5.511346594228526,\n",
       " 'mistake': -3.964317112699075,\n",
       " '950': -15.096722212598287,\n",
       " 'films': -5.102879483637752,\n",
       " 'worst': -1.1901295818703426,\n",
       " 'pacing': -5.947406422564729,\n",
       " 'storyline': -6.431375478980543,\n",
       " 'soundtrack': -3.489696862413903,\n",
       " 'song': -4.682872812201317,\n",
       " 'lame': -2.3984158230683983,\n",
       " 'country': -6.134179792271398,\n",
       " 'tune': -8.190110996687062,\n",
       " 'played': -4.601682108395386,\n",
       " 'less': -5.866684382742551,\n",
       " 'four': -7.767576574515586,\n",
       " 'looks': -4.117565862322839,\n",
       " 'cheap': -3.5994604528696006,\n",
       " 'extreme': -8.435274927179968,\n",
       " 'rarely': -6.787726335486579,\n",
       " 'happy': -4.301892234671143,\n",
       " 'end': -6.295748674935498,\n",
       " 'credits': -7.217690666849422,\n",
       " 'prevents': -0.0,\n",
       " 'giving': -7.201595177155853,\n",
       " 'harvey': -0.0,\n",
       " 'keitel': -0.0,\n",
       " 'least': -4.223701242127889,\n",
       " 'making': -4.953677272566969,\n",
       " 'bit': -4.492262767066024,\n",
       " 'effort': -3.6287070442184346,\n",
       " 'obsessives': -13.346873141680739,\n",
       " 'gut': -9.65537332838251,\n",
       " 'wrenching': -3.9842658126624246,\n",
       " 'laughter': -8.364327733023849,\n",
       " 'will': -3.68003650075651,\n",
       " 'hell': -5.8453311970114505,\n",
       " 'mom': -7.87864869340772,\n",
       " 'liked': -3.0839323246970043,\n",
       " 'itbr': -8.255847603651016,\n",
       " 'camp': -8.287373333133441,\n",
       " 'phil': -0.0,\n",
       " 'alien': -0.0,\n",
       " 'those': -5.250902458560336,\n",
       " 'quirky': -4.613032106077392,\n",
       " 'humour': -4.317271527084468,\n",
       " 'based': -6.488716806304449,\n",
       " 'oddness': -12.310682967208239,\n",
       " 'everything': -7.248508466821805,\n",
       " 'actual': -6.896010729377334,\n",
       " 'punchlinesbr': -12.776007004987537,\n",
       " 'odd': -7.784914332403269,\n",
       " 'progressed': -6.263649144233846,\n",
       " 'didnt': -0.0,\n",
       " 'jokes': -6.319392576293318,\n",
       " 'anymorebr': -11.92694000158068,\n",
       " 'low': -5.35615977629449,\n",
       " 'budget': -6.532748710523444,\n",
       " 'thats': -0.0,\n",
       " 'problem': -3.895871245926532,\n",
       " 'itself': -7.294654819434785,\n",
       " 'there': -4.858409313154668,\n",
       " 'eventually': -6.7671894063821165,\n",
       " 'lost': -7.7500557165320885,\n",
       " 'interestbr': -11.79745672340712,\n",
       " 'imagine': -6.241272796822444,\n",
       " 'stoner': -0.0,\n",
       " 'who': -5.096612078323052,\n",
       " 'currently': -5.733646893943596,\n",
       " 'something': -5.595925261293411,\n",
       " 'better': -4.832781565791065,\n",
       " 'try': -6.028357154473826,\n",
       " 'brother': -6.468248948065566,\n",
       " 'planet': -8.51225016569297,\n",
       " '12': -6.652334349906634,\n",
       " 'came': -7.415064263105391,\n",
       " 'recall': -6.159990804050074,\n",
       " 'scariest': -5.183176928904694,\n",
       " 'scene': -6.103143217423659,\n",
       " 'bird': -0.0,\n",
       " 'eating': -8.988374304634032,\n",
       " 'men': -5.882041242965566,\n",
       " 'dangling': -12.342360611274241,\n",
       " 'helplessly': -12.777142923470791,\n",
       " 'parachutes': -15.096722212598287,\n",
       " 'horror': -6.4439379903087035,\n",
       " 'horrorbr': -11.506875988229085,\n",
       " 'cheesy': -6.342761463808341,\n",
       " 'saturday': -8.93415626268956,\n",
       " 'afternoons': -11.712389974792188,\n",
       " 'tired': -5.531373553763973,\n",
       " 'formula': -0.0,\n",
       " 'monster': -6.664312324496613,\n",
       " 'type': -7.743791422551923,\n",
       " 'movies': -5.955031855020821,\n",
       " 'usually': -6.545652945025074,\n",
       " 'included': -0.0,\n",
       " 'hero': -5.987229443046541,\n",
       " 'beautiful': -2.3630253365486085,\n",
       " 'woman': -7.073526075118653,\n",
       " 'might': -5.030707897448075,\n",
       " 'daughter': -7.841896677793005,\n",
       " 'professor': -9.428076972226586,\n",
       " 'resolution': -9.433180801420322,\n",
       " 'died': -5.885478705692241,\n",
       " 'care': -4.8202728986664205,\n",
       " 'much': -5.702721479691868,\n",
       " 'romantic': -4.362806515654303,\n",
       " 'angle': -9.566998405208386,\n",
       " 'year': -5.688306854699872,\n",
       " 'predictable': -3.0177963747143335,\n",
       " 'plots': -6.79089947591126,\n",
       " 'unintentional': -2.9769134507184156,\n",
       " 'humorbr': -10.876292827095643,\n",
       " 'later': -4.908015844244769,\n",
       " 'psycho': -7.272187198211854,\n",
       " 'loved': -1.3627176475193465,\n",
       " 'star': -7.404336724086977,\n",
       " 'janet': -10.121445989143623,\n",
       " 'leigh': -10.338666377623124,\n",
       " 'bumped': -11.168673169885453,\n",
       " 'early': -5.22013518807063,\n",
       " 'sat': -0.0,\n",
       " 'took': -7.521678808124335,\n",
       " 'notice': -7.652618375867949,\n",
       " 'since': -6.665460010832943,\n",
       " 'screenwriters': -0.0,\n",
       " 'scary': -7.428787097435802,\n",
       " 'possible': -6.003223041541807,\n",
       " 'wellworn': -12.618390452258325,\n",
       " 'rules': -3.692355765393879,\n",
       " 'im': -0.0,\n",
       " 'fan': -6.2189074405810985,\n",
       " 'bolls': -15.096722212598287,\n",
       " 'again': -4.8835480457644405,\n",
       " 'enjoyed': -1.8715861473393982,\n",
       " 'postal': -13.043418950397154,\n",
       " 'maybe': -5.554153476544256,\n",
       " 'boll': -13.23028471283834,\n",
       " 'apparently': -3.9816595622379727,\n",
       " 'bought': -8.480054974731091,\n",
       " 'rights': -7.183335183716893,\n",
       " 'cry': -3.363195293656934,\n",
       " 'long': -7.00993555460095,\n",
       " 'ago': -4.564696332981356,\n",
       " 'before': -7.01758362081214,\n",
       " 'game': -5.4636355878492315,\n",
       " 'killing': -6.4669137993315156,\n",
       " 'mercs': -13.32170177273703,\n",
       " 'infiltrating': -12.274366512726083,\n",
       " 'secret': -8.607222575122421,\n",
       " 'research': -4.674132169203601,\n",
       " 'labs': -13.045389805670286,\n",
       " 'located': -0.0,\n",
       " 'tropical': -0.0,\n",
       " 'island': -6.910862999272641,\n",
       " 'should': -4.904485393724341,\n",
       " 'warned': -6.123311799145848,\n",
       " 'together': -4.624187884329817,\n",
       " 'along': -5.50811395637498,\n",
       " 'legion': -11.62737330059786,\n",
       " 'schmucks': -13.74832150977909,\n",
       " 'feeling': -6.498398247131306,\n",
       " 'invites': -0.0,\n",
       " 'three': -7.053607808401904,\n",
       " 'countrymen': -13.188718935066998,\n",
       " 'players': -5.96520138570153,\n",
       " 'names': -6.157524993869,\n",
       " 'til': -9.181117301136332,\n",
       " 'schweiger': -0.0,\n",
       " 'udo': -11.957368907348984,\n",
       " 'kier': -11.997009965056826,\n",
       " 'ralf': -12.591836672142312,\n",
       " 'actually': -5.309256436740736,\n",
       " 'selfs': -13.01353939792694,\n",
       " 'biz': -0.0,\n",
       " 'tale': -4.005880597334664,\n",
       " 'jack': -4.382017307062995,\n",
       " 'carver': -4.1899001819807085,\n",
       " 'yes': -7.504329016658021,\n",
       " 'german': -6.1087591365098675,\n",
       " 'hail': -10.003554993549246,\n",
       " 'bratwurst': -14.031631675716458,\n",
       " 'dudes': -0.0,\n",
       " 'however': -6.773807752779066,\n",
       " 'badass': -0.0,\n",
       " 'complained': -10.615120871680311,\n",
       " 'hes': -0.0,\n",
       " 'staying': -0.0,\n",
       " 'true': -3.338034616455511,\n",
       " 'whole': -5.825450656527451,\n",
       " 'perspective': -4.43901460227536,\n",
       " 'dont': -4.929601453735502,\n",
       " 'looked': -3.836693047484888,\n",
       " 'kicking': -6.831172904890173,\n",
       " 'beyond': -5.046864476001387,\n",
       " 'demented': -0.0,\n",
       " 'evil': -6.797651006407728,\n",
       " 'mad': -8.009014480796218,\n",
       " 'scientist': -6.270422378578725,\n",
       " 'dr': -8.311437218218828,\n",
       " 'krieger': -15.096722212598287,\n",
       " 'gms': -13.021584095932953,\n",
       " 'performing': -4.8618669469830325,\n",
       " 'topsecret': -13.165759560088127,\n",
       " 'reminds': -4.010363320850231,\n",
       " 'spoiler': -6.340394457636591,\n",
       " 'vancouver': -10.769886907127926,\n",
       " 'reason': -3.734934420643644,\n",
       " 'palm': -0.0,\n",
       " 'trees': -0.0,\n",
       " 'rich': -6.1561648022777735,\n",
       " 'havent': -8.137442852880056,\n",
       " 'gone': -7.354252970163464,\n",
       " 'started': -6.533221313360394,\n",
       " 'cannot': -5.516257168137514,\n",
       " 'stay': -5.1399768406554545,\n",
       " 'shenanigans': -0.0,\n",
       " 'delivers': -3.1616836773267183,\n",
       " 'meaning': -8.044322108696294,\n",
       " 'suckbr': -13.925277715862006,\n",
       " 'mentioning': -0.0,\n",
       " 'imply': -11.45372213814771,\n",
       " 'did': -5.360087032559286,\n",
       " 'areas': -7.316825586707091,\n",
       " 'boat': -7.499765559192555,\n",
       " 'until': -6.122060695540205,\n",
       " 'squad': -8.223531561537593,\n",
       " 'enters': -0.0,\n",
       " 'laugh': -6.91585080872211,\n",
       " 'reeks': -0.0,\n",
       " 'poop': -12.274029106681606,\n",
       " 'simpletons': -13.40309727233496,\n",
       " 'take': -6.845929735776103,\n",
       " 'wiff': -15.096722212598287,\n",
       " 'ahead': -6.536630188124182,\n",
       " 'btw': -0.0,\n",
       " 'annoying': -2.0919568101337425,\n",
       " 'sidekick': -7.367065695878019,\n",
       " 'shoot': -0.0,\n",
       " 'him': -5.220749819857827,\n",
       " 'minutes': -3.3607216665457504,\n",
       " 'screen': -7.289763969583852,\n",
       " 'shakespearebr': -12.645129981027534,\n",
       " 'shakespeare': -6.560366114849527,\n",
       " 'lostbr': -11.878349450363096,\n",
       " 'appreciate': -2.985049231776852,\n",
       " 'trying': -4.604254962901102,\n",
       " 'masses': -8.293528801374364,\n",
       " 'why': -4.293311211454261,\n",
       " 'ruin': -7.632015389768844,\n",
       " 'goodbr': -9.479982018498545,\n",
       " 'because': -5.496301098056456,\n",
       " 'scottish': -5.833477376652179,\n",
       " 'certain': -5.728921960939687,\n",
       " 'rev': -12.306732780434015,\n",
       " 'hence': -0.0,\n",
       " 'tried': -4.759727666213044,\n",
       " 'victorian': -0.0,\n",
       " 'erabr': -10.684734886195095,\n",
       " 'words': -7.890863788883944,\n",
       " 'improve': -6.150400769138819,\n",
       " 'perfectionbr': -12.004882722663892,\n",
       " 'write': -5.7455985356696155,\n",
       " 'ten': -7.214127712691679,\n",
       " 'text': -8.554152962506794,\n",
       " 'english': -6.127830617748134,\n",
       " 'composition': -0.0,\n",
       " 'forte': -11.90670577690826,\n",
       " 'keep': -6.539654531799935,\n",
       " 'saying': -5.6375698493616095,\n",
       " 'does': -6.724228831920046,\n",
       " 'cut': -5.751337909290611,\n",
       " 'fantastic': -1.2701010193183004,\n",
       " 'prisoners': -0.0,\n",
       " 'famous': -4.772614414417475,\n",
       " 'george': -6.951185074918907,\n",
       " 'clooney': -10.296469280620824,\n",
       " 'roll': -8.098515493748028,\n",
       " 'man': -5.078670556040279,\n",
       " 'constant': -8.157396998725611,\n",
       " 'sorrow': -0.0,\n",
       " 'recommand': -12.896925994042396,\n",
       " 'everybody': -7.553546939771157,\n",
       " 'greetings': -11.288813675125112,\n",
       " 'bart': -0.0,\n",
       " 'kind': -6.049526097939765,\n",
       " 'drawn': -7.024937435765308,\n",
       " 'erotic': -7.771803534312718,\n",
       " 'amateurish': -1.092745427849554,\n",
       " 'unbelievable': -3.9438200316780665,\n",
       " 'bits': -7.789106022696215,\n",
       " 'sort': -5.424404999277636,\n",
       " 'school': -7.3836939671965505,\n",
       " 'project': -4.004662832620478,\n",
       " 'rosanna': -12.98670899999311,\n",
       " 'arquette': -10.850052983378342,\n",
       " 'thinking': -5.51981153202202,\n",
       " 'stock': -4.424636719482763,\n",
       " 'bizarre': -7.954925219090667,\n",
       " 'supposed': -3.067013908265647,\n",
       " 'midwest': -0.0,\n",
       " 'town': -6.826913269487095,\n",
       " 'involved': -6.5904740606624905,\n",
       " 'lessons': -5.2834180604908525,\n",
       " 'learned': -5.472642644912076,\n",
       " 'insights': -0.0,\n",
       " 'stilted': -3.212605417011289,\n",
       " 'quite': -4.642553789900146,\n",
       " 'ridiculous': -2.6856478363007636,\n",
       " 'lots': -6.7856223039480446,\n",
       " 'skin': -7.771607461507655,\n",
       " 'intrigues': -0.0,\n",
       " 'videotaped': -0.0,\n",
       " 'bisexual': -0.0,\n",
       " 'relationship': -4.66285028793064,\n",
       " 'nowhere': -3.844606745305085,\n",
       " 'heterosexual': -0.0,\n",
       " 'encounters': -6.6109723276806935,\n",
       " 'absurd': -3.3159355550342275,\n",
       " 'dance': -6.817496720445625,\n",
       " 'stereotyped': -0.0,\n",
       " 'pass': -4.197054641520549,\n",
       " 'million': -7.228194338845034,\n",
       " 'miles': -8.657702621890314,\n",
       " 'wasted': -1.1676962737060423,\n",
       " 'could': -4.816410644002231,\n",
       " 'spent': -6.472946294682358,\n",
       " 'starving': -11.41659597900374,\n",
       " 'aids': -0.0,\n",
       " 'africa': -6.873190607074076,\n",
       " 'simply': -5.204191281959634,\n",
       " 'remade': -0.0,\n",
       " 'fails': -1.4989298242846405,\n",
       " 'capture': -5.89169639829933,\n",
       " 'flavor': -8.02222700945,\n",
       " 'terror': -7.162433174663395,\n",
       " '1963': -10.821618841735837,\n",
       " 'title': -5.71143993401867,\n",
       " 'liam': -10.801414073048571,\n",
       " 'neeson': -0.0,\n",
       " 'excellent': -1.3449093232991336,\n",
       " 'always': -3.0412510618485094,\n",
       " 'holds': -3.731915411536926,\n",
       " 'exception': -6.015466908803564,\n",
       " 'owen': -0.0,\n",
       " 'wilson': -8.055886555099077,\n",
       " 'feel': -5.901854882170178,\n",
       " 'character': -6.531620496206417,\n",
       " 'luke': -4.557763756059991,\n",
       " 'major': -7.455723723483361,\n",
       " 'fault': -4.226418569427402,\n",
       " 'version': -7.514604949869325,\n",
       " 'strayed': -12.539041274132556,\n",
       " 'shirley': -0.0,\n",
       " 'jackson': -4.807480942829211,\n",
       " 'attempts': -5.56568265302556,\n",
       " 'grandiose': -0.0,\n",
       " 'thrill': -5.626136845263738,\n",
       " 'earlier': -7.766341298218283,\n",
       " 'trade': -7.112942249268533,\n",
       " 'special': -6.625633433254153,\n",
       " 'effects': -5.85880635681,\n",
       " 'enjoy': -3.0565317405076056,\n",
       " 'friction': -0.0,\n",
       " 'older': -4.288028564654455,\n",
       " 'top': -5.034495266838783,\n",
       " 'horrible': -2.4179806168917928,\n",
       " 'wasnt': -0.0,\n",
       " 'continuous': -0.0,\n",
       " 'minute': -5.214144742540223,\n",
       " 'fight': -6.986645026580417,\n",
       " 'chance': -3.967111019072463,\n",
       " 'development': -5.918395396894017,\n",
       " 'busy': -0.0,\n",
       " 'running': -5.5816293099761545,\n",
       " 'sword': -0.0,\n",
       " 'emotional': -4.383149636199479,\n",
       " 'attachment': -11.2910364347919,\n",
       " 'except': -4.6185265746031545,\n",
       " 'machine': -6.432333594554069,\n",
       " 'wanted': -5.464920496152683,\n",
       " 'destroy': -6.591394873016347,\n",
       " 'blatantly': -2.562334710778393,\n",
       " 'stolen': -6.479877101676223,\n",
       " 'lotr': -11.215779663727295,\n",
       " 'wars': -4.836049170184346,\n",
       " 'matrix': -7.872349548707694,\n",
       " 'examplesbr': -12.72989724879081,\n",
       " 'ghost': -5.992271755733361,\n",
       " 'final': -6.866298794128016,\n",
       " 'yoda': -0.0,\n",
       " 'vader': -9.436505388236624,\n",
       " 'spider': -0.0,\n",
       " 'beginning': -7.544403452132007,\n",
       " 'frodo': -0.0,\n",
       " ...}"
      ]
     },
     "execution_count": 415,
     "metadata": {},
     "output_type": "execute_result"
    }
   ],
   "source": [
    "pos"
   ]
  },
  {
   "cell_type": "code",
   "execution_count": 416,
   "metadata": {},
   "outputs": [
    {
     "name": "stdout",
     "output_type": "stream",
     "text": [
      "mnb_bow_score : 0.9166\n"
     ]
    }
   ],
   "source": [
    "mnb_bow_predict = mnb.predict(transformed_test_reviews)\n",
    "mnb_bow_score = accuracy_score(test_sentiments, mnb_bow_predict)\n",
    "print(\"mnb_bow_score :\",mnb_bow_score)\n"
   ]
  },
  {
   "cell_type": "code",
   "execution_count": 417,
   "metadata": {},
   "outputs": [
    {
     "name": "stdout",
     "output_type": "stream",
     "text": [
      "              precision    recall  f1-score   support\n",
      "\n",
      "    Positive       0.89      0.95      0.92      4993\n",
      "    Negative       0.94      0.89      0.91      5007\n",
      "\n",
      "    accuracy                           0.92     10000\n",
      "   macro avg       0.92      0.92      0.92     10000\n",
      "weighted avg       0.92      0.92      0.92     10000\n",
      "\n"
     ]
    }
   ],
   "source": [
    "#Classification report for bag of words \n",
    "mnb_bow_report=classification_report(test_sentiments,mnb_bow_predict,target_names=['Positive','Negative'])\n",
    "print(mnb_bow_report)"
   ]
  },
  {
   "cell_type": "markdown",
   "metadata": {},
   "source": [
    "### Predict the model using TF-IDF method"
   ]
  },
  {
   "cell_type": "code",
   "execution_count": 394,
   "metadata": {},
   "outputs": [],
   "source": [
    "neg, pos, mnb, transformed_test_reviews, vec = generate_log_prob(train_reviews, train_sentiments, tfidf = True, alpha = 0.05)"
   ]
  },
  {
   "cell_type": "code",
   "execution_count": 395,
   "metadata": {},
   "outputs": [
    {
     "name": "stdout",
     "output_type": "stream",
     "text": [
      "mnb_tfidf_score : 0.8624\n"
     ]
    }
   ],
   "source": [
    "mnb_tfidf_predict = mnb.predict(transformed_test_reviews)\n",
    "mnb_tfidf_score = accuracy_score(test_sentiments, mnb_tfidf_predict)\n",
    "print(\"mnb_tfidf_score :\",mnb_tfidf_score)\n"
   ]
  },
  {
   "cell_type": "code",
   "execution_count": 396,
   "metadata": {},
   "outputs": [
    {
     "name": "stdout",
     "output_type": "stream",
     "text": [
      "              precision    recall  f1-score   support\n",
      "\n",
      "    Positive       0.85      0.87      0.86      4993\n",
      "    Negative       0.87      0.85      0.86      5007\n",
      "\n",
      "    accuracy                           0.86     10000\n",
      "   macro avg       0.86      0.86      0.86     10000\n",
      "weighted avg       0.86      0.86      0.86     10000\n",
      "\n"
     ]
    }
   ],
   "source": [
    "#Classification report for TF-IDF\n",
    "mnb_tfidf_report=classification_report(test_sentiments,mnb_tfidf_predict,target_names=['Positive','Negative'])\n",
    "print(mnb_tfidf_report)"
   ]
  },
  {
   "cell_type": "code",
   "execution_count": 397,
   "metadata": {},
   "outputs": [],
   "source": [
    "wrong_labeled_NB_TFIDF = \"\"\n",
    "for i in range(mnb_tfidf_predict.size):\n",
    "    start_index = test_sentiments.index.start\n",
    "    if(mnb_tfidf_predict[i] != test_sentiments[start_index + i]):\n",
    "        wrong_labeled_NB_TFIDF += str(start_index + i) + \" \" + str(imdb_data['sentiment'][start_index + i]) + \" | \" + str(imdb_data['review'][start_index + i]) +  \"\\n\"\n",
    "\n",
    "f = open(\"Naive Bayes - TF-IDF Wrongly labeled sentences.txt\", \"w\")\n",
    "f.write(wrong_labeled_NB_TFIDF)\n",
    "f.close()"
   ]
  },
  {
   "cell_type": "code",
   "execution_count": 398,
   "metadata": {},
   "outputs": [],
   "source": [
    "f = open(\"Naive Bayes - Bag of Words Wrongly labeled sentences.txt\")\n",
    "dataset = []\n",
    "for line in f:\n",
    "    pattern = r'[^A-Za-z0-9]+'\n",
    "    line = re.sub(pattern, \" \", line.lower())\n",
    "    dataset.append(line)\n",
    "reweight_dict = calculate_reweight_dict(pos, neg, dataset)\n",
    "neg, pos, mnb = change_weight(reweight_dict, mnb, neg, pos, vec)"
   ]
  },
  {
   "cell_type": "code",
   "execution_count": 399,
   "metadata": {},
   "outputs": [
    {
     "name": "stdout",
     "output_type": "stream",
     "text": [
      "mnb_tfidf_score : 0.8928\n"
     ]
    }
   ],
   "source": [
    "mnb_tfidf_predict = mnb.predict(transformed_test_reviews)\n",
    "mnb_tfidf_score = accuracy_score(test_sentiments, mnb_tfidf_predict)\n",
    "print(\"mnb_tfidf_score :\",mnb_tfidf_score)"
   ]
  },
  {
   "cell_type": "code",
   "execution_count": 400,
   "metadata": {},
   "outputs": [
    {
     "name": "stdout",
     "output_type": "stream",
     "text": [
      "              precision    recall  f1-score   support\n",
      "\n",
      "    Positive       0.88      0.91      0.89      4993\n",
      "    Negative       0.91      0.88      0.89      5007\n",
      "\n",
      "    accuracy                           0.89     10000\n",
      "   macro avg       0.89      0.89      0.89     10000\n",
      "weighted avg       0.89      0.89      0.89     10000\n",
      "\n"
     ]
    }
   ],
   "source": [
    "#Classification report for TF-IDF\n",
    "mnb_tfidf_report=classification_report(test_sentiments,mnb_tfidf_predict,target_names=['Positive','Negative'])\n",
    "print(mnb_tfidf_report)"
   ]
  },
  {
   "cell_type": "markdown",
   "metadata": {},
   "source": [
    "# fastText method"
   ]
  },
  {
   "cell_type": "code",
   "execution_count": 401,
   "metadata": {},
   "outputs": [
    {
     "data": {
      "text/plain": [
       "50000"
      ]
     },
     "execution_count": 401,
     "metadata": {},
     "output_type": "execute_result"
    }
   ],
   "source": [
    "import fasttext\n",
    "test_reviews.index.stop"
   ]
  },
  {
   "cell_type": "code",
   "execution_count": 402,
   "metadata": {},
   "outputs": [],
   "source": [
    "# #preprocess the data so it can feed into fasttext\n",
    "# def transform_instance(doc, label):\n",
    "#     processed_text = []\n",
    "#     #Prefix the index-ed label with __label__\n",
    "#     for i in range(doc.index.start, doc.index.stop):\n",
    "#         cur_row = \"__label__\" + label[i] + \" \" + doc[i]\n",
    "#         processed_text.append(cur_row)\n",
    "#     return processed_text\n",
    "\n",
    "# training_text = transform_instance(train_reviews, train_sentiments)\n",
    "# test_text = transform_instance(test_reviews, test_sentiments)\n",
    "\n",
    "# # Put the training and test dataset into file, so that the fasttext model can read them.\n",
    "# f = open(\"fasttext.train\", \"w\")\n",
    "# output = \"\"\n",
    "# for text in training_text:\n",
    "#     output += text\n",
    "#     output += \"\\n\"\n",
    "# f.write(output)\n",
    "# f.close()\n",
    "\n",
    "# f = open(\"fasttext.test\", \"w\")\n",
    "# output = \"\"\n",
    "# for text in test_text:\n",
    "#     output += text\n",
    "#     output += \"\\n\"\n",
    "# f.write(output)\n",
    "# f.close()"
   ]
  },
  {
   "cell_type": "code",
   "execution_count": 403,
   "metadata": {},
   "outputs": [
    {
     "name": "stderr",
     "output_type": "stream",
     "text": [
      "Read 9M words\n",
      "Number of words:  190288\n",
      "Number of labels: 2\n",
      "Progress: 100.0% words/sec/thread: 5014258 lr:  0.000000 avg.loss:  0.107517 ETA:   0h 0m 0s\n"
     ]
    }
   ],
   "source": [
    "model = fasttext.train_supervised(input = \"fasttext.train\", lr=0.1, epoch=45, wordNgrams=1)"
   ]
  },
  {
   "cell_type": "code",
   "execution_count": 404,
   "metadata": {},
   "outputs": [],
   "source": [
    "model.save_model(\"model_movie.bin\")"
   ]
  },
  {
   "cell_type": "code",
   "execution_count": 405,
   "metadata": {},
   "outputs": [
    {
     "data": {
      "text/plain": [
       "(10000, 0.8905, 0.8905)"
      ]
     },
     "execution_count": 405,
     "metadata": {},
     "output_type": "execute_result"
    }
   ],
   "source": [
    "model.test(\"fasttext.test\")\n"
   ]
  },
  {
   "cell_type": "code",
   "execution_count": 406,
   "metadata": {},
   "outputs": [
    {
     "data": {
      "text/plain": [
       "<function TextIOWrapper.close()>"
      ]
     },
     "execution_count": 406,
     "metadata": {},
     "output_type": "execute_result"
    }
   ],
   "source": [
    "# get the misclassified examples by fasttext algorithm\n",
    "wrong_labeled_fasttext = \"\"\n",
    "for i in range(test_reviews.size):\n",
    "    start_index = test_sentiments.index.start\n",
    "    if(model.predict(test_reviews[start_index + i])[0][0] != str('__label__' + test_sentiments[start_index + i])):\n",
    "        wrong_labeled_fasttext += str(start_index + i) + \" \" + str(imdb_data['sentiment'][start_index + i]) + \" | \" + str(imdb_data['review'][start_index + i]) +  \"\\n\"\n",
    "\n",
    "f = open(\"fastText Wrongly labeled sentences.txt\", \"w\")\n",
    "f.write(wrong_labeled_fasttext)\n",
    "f.close\n"
   ]
  },
  {
   "cell_type": "markdown",
   "metadata": {},
   "source": [
    "# Fasttext manually modify the sentence embedding method"
   ]
  },
  {
   "cell_type": "code",
   "execution_count": 407,
   "metadata": {},
   "outputs": [
    {
     "ename": "ModuleNotFoundError",
     "evalue": "No module named 'torch'",
     "output_type": "error",
     "traceback": [
      "\u001b[0;31m---------------------------------------------------------------------------\u001b[0m",
      "\u001b[0;31mModuleNotFoundError\u001b[0m                       Traceback (most recent call last)",
      "\u001b[1;32m/Users/williamchen/Documents/GitHub/BaselineModel/main.ipynb Cell 61'\u001b[0m in \u001b[0;36m<cell line: 2>\u001b[0;34m()\u001b[0m\n\u001b[1;32m      <a href='vscode-notebook-cell:/Users/williamchen/Documents/GitHub/BaselineModel/main.ipynb#ch0000052?line=0'>1</a>\u001b[0m train_reviews\n\u001b[0;32m----> <a href='vscode-notebook-cell:/Users/williamchen/Documents/GitHub/BaselineModel/main.ipynb#ch0000052?line=1'>2</a>\u001b[0m \u001b[39mimport\u001b[39;00m \u001b[39mtorch\u001b[39;00m\n\u001b[1;32m      <a href='vscode-notebook-cell:/Users/williamchen/Documents/GitHub/BaselineModel/main.ipynb#ch0000052?line=2'>3</a>\u001b[0m \u001b[39mimport\u001b[39;00m \u001b[39mtorch\u001b[39;00m\u001b[39m.\u001b[39;00m\u001b[39mnn\u001b[39;00m \u001b[39mas\u001b[39;00m \u001b[39mnn\u001b[39;00m\n",
      "\u001b[0;31mModuleNotFoundError\u001b[0m: No module named 'torch'"
     ]
    }
   ],
   "source": [
    "train_reviews\n",
    "import torch\n",
    "import torch.nn as nn"
   ]
  },
  {
   "cell_type": "code",
   "execution_count": null,
   "metadata": {},
   "outputs": [],
   "source": [
    "# def output_train_reviews_to_doc(train_reviews):\n",
    "#     processed_doc = \"\"\n",
    "#     for review in train_reviews:\n",
    "#         processed_doc += review + \"\\n\"\n",
    "#     return processed_doc\n",
    "\n",
    "# f = open(\"wordRepresentation.train\", \"w\")\n",
    "# f.write(output_train_reviews_to_doc(train_reviews))\n",
    "# f.close()"
   ]
  },
  {
   "cell_type": "code",
   "execution_count": null,
   "metadata": {},
   "outputs": [],
   "source": [
    "model = fasttext.train_unsupervised(\"wordRepresentation.train\")\n"
   ]
  },
  {
   "cell_type": "code",
   "execution_count": null,
   "metadata": {},
   "outputs": [],
   "source": [
    "len(model.words)"
   ]
  },
  {
   "cell_type": "code",
   "execution_count": null,
   "metadata": {},
   "outputs": [],
   "source": [
    "model.get_word_vector(\"the\")"
   ]
  },
  {
   "cell_type": "markdown",
   "metadata": {},
   "source": [
    "For each train and test review, use all the embeddings of words, calculate an average to represent the sentence"
   ]
  },
  {
   "cell_type": "code",
   "execution_count": null,
   "metadata": {},
   "outputs": [],
   "source": [
    "def transform_sentence_embedding(data, word_list):\n",
    "    representations = []\n",
    "    for sentence in data:\n",
    "        nltk_tokens = nltk.word_tokenize(sentence)\n",
    "        sum = 0\n",
    "        count = 0\n",
    "        for token in nltk_tokens:\n",
    "            if token not in word_list:\n",
    "                sum += model.get_word_vector(token)\n",
    "                count += 1\n",
    "        representations.append(sum / count)\n",
    "    return representations\n",
    "\n"
   ]
  },
  {
   "cell_type": "code",
   "execution_count": null,
   "metadata": {},
   "outputs": [],
   "source": [
    "def transform_label(data):\n",
    "    representations = []\n",
    "    for label in data:\n",
    "        if(label == 'negative'):\n",
    "            representations.append(0)\n",
    "        else:\n",
    "            representations.append(1)\n",
    "    return representations"
   ]
  },
  {
   "cell_type": "code",
   "execution_count": null,
   "metadata": {},
   "outputs": [],
   "source": [
    "word_list = []\n",
    "fasttext_train_reviews = torch.Tensor(np.array(transform_sentence_embedding(train_reviews, word_list)))\n",
    "fasttext_test_reviews = torch.Tensor(np.array(transform_sentence_embedding(test_reviews, word_list)))"
   ]
  },
  {
   "cell_type": "code",
   "execution_count": null,
   "metadata": {},
   "outputs": [],
   "source": [
    "fasttext_train_sentiments = nn.functional.one_hot(torch.Tensor(np.array(transform_label(train_sentiments))).to(torch.int64)).to(torch.float)\n",
    "fasttext_test_sentiments = nn.functional.one_hot(torch.Tensor(np.array(transform_label(test_sentiments))).to(torch.int64)).to(torch.float)"
   ]
  },
  {
   "cell_type": "code",
   "execution_count": null,
   "metadata": {},
   "outputs": [],
   "source": [
    "fasttext_train_reviews.shape, fasttext_train_sentiments.shape, fasttext_test_reviews.shape, fasttext_test_sentiments.shape"
   ]
  },
  {
   "cell_type": "code",
   "execution_count": null,
   "metadata": {},
   "outputs": [],
   "source": [
    "class FeedforwardNeuralNetModel(nn.Module):\n",
    "    def __init__(self, input_dim, hidden_dim, output_dim):\n",
    "        super(FeedforwardNeuralNetModel, self).__init__()\n",
    "        # Linear function\n",
    "        self.fc1 = nn.Linear(input_dim, hidden_dim) \n",
    "\n",
    "        # Non-linearity\n",
    "        self.sigmoid_1 = nn.Sigmoid()\n",
    "\n",
    "        # Linear function (readout)\n",
    "        self.fc2 = nn.Linear(hidden_dim, output_dim)  \n",
    "\n",
    "        # Non-linearity\n",
    "        self.sigmoid_2 = nn.Sigmoid()\n",
    "\n",
    "    def forward(self, x):\n",
    "        # Linear function  # LINEAR\n",
    "        out = self.fc1(x)\n",
    "\n",
    "        # Non-linearity  # NON-LINEAR\n",
    "        out = self.sigmoid_1(out)\n",
    "\n",
    "        # Linear function (readout)  # LINEAR\n",
    "        out = self.fc2(out)\n",
    "\n",
    "        out = self.sigmoid_2(out)\n",
    "        return out"
   ]
  },
  {
   "cell_type": "code",
   "execution_count": null,
   "metadata": {},
   "outputs": [],
   "source": [
    "input_dim = 100\n",
    "hidden_dim = 100\n",
    "output_dim = 2\n",
    "\n",
    "learning_rate = 0.1\n",
    "n_epochs = 40\n",
    "batch_size = 32\n",
    "\n",
    "net = FeedforwardNeuralNetModel(input_dim, hidden_dim, output_dim)\n",
    "criterion = nn.CrossEntropyLoss()\n",
    "optimizer = torch.optim.SGD(net.parameters(), lr=learning_rate)  \n"
   ]
  },
  {
   "cell_type": "code",
   "execution_count": null,
   "metadata": {},
   "outputs": [],
   "source": [
    "net.train()\n",
    "# Placeholder for loss\n",
    "track_loss = []\n",
    "\n",
    "print('Epoch', '\\t', 'Loss train', '\\t', 'Loss test')\n",
    "for i in range(n_epochs):\n",
    "\n",
    "    # shuffle the permutation, so that the batches each time are different\n",
    "    shuffle_idx = np.random.permutation(len(fasttext_train_reviews))\n",
    "    #split the tensor into smaller batches\n",
    "    review_batches = torch.split(fasttext_train_reviews[shuffle_idx], batch_size)\n",
    "    sentiment_batches = torch.split(fasttext_train_sentiments[shuffle_idx], batch_size)\n",
    "    # Mini batches\n",
    "    for j in range(len(review_batches)):\n",
    "        review_batch = review_batches[j]\n",
    "\n",
    "        sentiment_batch = sentiment_batches[j]\n",
    "        \n",
    "        #where we train and build the network\n",
    "        output_train = net(review_batch)\n",
    "\n",
    "\n",
    "        loss = criterion(output_train, sentiment_batch)\n",
    "    \n",
    "        # compute gradients\n",
    "        optimizer.zero_grad()\n",
    "        loss.backward()\n",
    "    \n",
    "        # update the weights\n",
    "        optimizer.step()\n",
    "\n",
    "    # Keep track of loss at each epoch\n",
    "    track_loss += [float(loss)]\n",
    "\n",
    "    loss_epoch = f'{i + 1} / {n_epochs}'\n",
    "    with torch.no_grad():\n",
    "        output_train = net(fasttext_train_reviews)\n",
    "        loss_train = criterion(output_train, fasttext_train_sentiments)\n",
    "        loss_epoch += f'\\t {loss_train:.4f}'\n",
    "\n",
    "        output_test = net(fasttext_test_reviews)\n",
    "        loss_test = criterion(output_test, fasttext_test_sentiments)\n",
    "        loss_epoch += f'\\t\\t {loss_test:.4f}'\n",
    "\n",
    "    print(loss_epoch)"
   ]
  },
  {
   "cell_type": "code",
   "execution_count": null,
   "metadata": {},
   "outputs": [],
   "source": [
    "predict_val = net(fasttext_test_reviews)"
   ]
  },
  {
   "cell_type": "code",
   "execution_count": null,
   "metadata": {},
   "outputs": [],
   "source": [
    "predict_result = []\n",
    "for (neg_prob, pos_prob) in predict_val:\n",
    "    if (neg_prob > pos_prob):\n",
    "        predict = \"negative\"\n",
    "    else:\n",
    "        predict = \"positive\"\n",
    "    predict_result.append(predict)\n"
   ]
  },
  {
   "cell_type": "code",
   "execution_count": null,
   "metadata": {},
   "outputs": [],
   "source": [
    "predict_result"
   ]
  },
  {
   "cell_type": "code",
   "execution_count": null,
   "metadata": {},
   "outputs": [],
   "source": [
    "ffnn_score = accuracy_score(test_sentiments, predict_result)\n",
    "ffnn_score"
   ]
  },
  {
   "cell_type": "code",
   "execution_count": null,
   "metadata": {},
   "outputs": [],
   "source": []
  }
 ],
 "metadata": {
  "interpreter": {
   "hash": "60d1cc28a4b92593bd5dc5bc27ccc3190a35517554a34efe05fccaa5f4e07df9"
  },
  "kernelspec": {
   "display_name": "Python 3.10.4 64-bit (windows store)",
   "language": "python",
   "name": "python3"
  },
  "language_info": {
   "codemirror_mode": {
    "name": "ipython",
    "version": 3
   },
   "file_extension": ".py",
   "mimetype": "text/x-python",
   "name": "python",
   "nbconvert_exporter": "python",
   "pygments_lexer": "ipython3",
   "version": "3.9.7"
  },
  "orig_nbformat": 4
 },
 "nbformat": 4,
 "nbformat_minor": 2
}
